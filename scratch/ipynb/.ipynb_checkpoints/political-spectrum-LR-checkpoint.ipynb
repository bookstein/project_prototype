{
 "metadata": {
  "name": "",
  "signature": "sha256:64664d6630d1ad03f6105b1e94cd992f03482b4a3c230211b07ea2fe52235609"
 },
 "nbformat": 3,
 "nbformat_minor": 0,
 "worksheets": [
  {
   "cells": [
    {
     "cell_type": "code",
     "collapsed": false,
     "input": [
      "import simplejson as json\n",
      "import os\n",
      "import string\n",
      "import pickle\n",
      "\n",
      "import numpy as np\n",
      "import tweepy\n",
      "\n",
      "from sklearn.linear_model import LogisticRegression\n",
      "from sklearn.feature_extraction.text import CountVectorizer, TfidfVectorizer\n",
      "from sklearn.naive_bayes import MultinomialNB, BernoulliNB\n",
      "from sklearn import cross_validation\n",
      "from sklearn import metrics\n",
      "\n",
      "import model"
     ],
     "language": "python",
     "metadata": {},
     "outputs": [],
     "prompt_number": 179
    },
    {
     "cell_type": "code",
     "collapsed": false,
     "input": [
      "TEXT = []\n",
      "LABELS = []\n",
      "\n",
      "data = model.Status.get_all_statuses()\n",
      "for status in data:\n",
      "    TEXT.append(status.text.lower())\n",
      "    #label 'p' for political\n",
      "    if status.label == \"p\":\n",
      "        LABELS.append(\"p\")\n",
      "    else:\n",
      "        LABELS.append(\"np\")\n",
      "    "
     ],
     "language": "python",
     "metadata": {},
     "outputs": [],
     "prompt_number": 180
    },
    {
     "cell_type": "code",
     "collapsed": false,
     "input": [
      "print \"TEXT LEN:\", len(TEXT)\n",
      "print \"LABELS LEN:\", len(LABELS)\n",
      "print TEXT[1]"
     ],
     "language": "python",
     "metadata": {},
     "outputs": [
      {
       "output_type": "stream",
       "stream": "stdout",
       "text": [
        "TEXT LEN: 60291\n",
        "LABELS LEN: 60291\n",
        "@npr--reconsider gutting @nprscience: we need more climate coverage! (i  pledge @ kqed-fm.) http://t.co/vxpwc8wqlr via @credomobile #p2\n"
       ]
      }
     ],
     "prompt_number": 181
    },
    {
     "cell_type": "code",
     "collapsed": false,
     "input": [
      "ENGLISH_STOP_WORDS = [\n",
      "    \"a\", \"about\", \"above\", \"across\", \"after\", \"afterwards\", \"again\", \"against\",\n",
      "    \"all\", \"almost\", \"alone\", \"along\", \"already\", \"also\", \"although\", \"always\",\n",
      "    \"am\", \"among\", \"amongst\", \"amoungst\", \"amount\", \"an\", \"and\", \"another\",\n",
      "    \"any\", \"anyhow\", \"anyone\", \"anything\", \"anyway\", \"anywhere\", \"are\",\n",
      "    \"around\", \"as\", \"at\", \"back\", \"be\", \"became\", \"because\", \"become\",\n",
      "    \"becomes\", \"becoming\", \"been\", \"before\", \"beforehand\", \"behind\", \"being\",\n",
      "    \"below\", \"beside\", \"besides\", \"between\", \"beyond\", \"bill\", \"both\",\n",
      "    \"bottom\", \"but\", \"by\", \"call\", \"can\", \"cannot\", \"cant\", \"co\", \"con\",\n",
      "    \"could\", \"couldnt\", \"cry\", \"de\", \"describe\", \"detail\", \"do\", \"done\",\n",
      "    \"down\", \"due\", \"during\", \"each\", \"eg\", \"eight\", \"either\", \"eleven\", \"else\",\n",
      "    \"elsewhere\", \"empty\", \"enough\", \"etc\", \"even\", \"ever\", \"every\", \"everyone\",\n",
      "    \"everything\", \"everywhere\", \"except\", \"few\", \"fifteen\", \"fify\", \"fill\",\n",
      "    \"find\", \"fire\", \"first\", \"five\", \"for\", \"former\", \"formerly\", \"forty\",\n",
      "    \"found\", \"four\", \"from\", \"front\", \"full\", \"further\", \"get\", \"give\", \"go\",\n",
      "    \"had\", \"has\", \"hasnt\", \"have\", \"he\", \"hence\", \"her\", \"here\", \"hereafter\",\n",
      "    \"hereby\", \"herein\", \"hereupon\", \"hers\", \"herself\", \"him\", \"himself\", \"his\",\n",
      "    \"how\", \"however\", \"hundred\", \"i\", \"ie\", \"if\", \"in\", \"inc\", \"indeed\",\n",
      "    \"interest\", \"into\", \"is\", \"it\", \"its\", \"itself\", \"keep\", \"last\", \"latter\",\n",
      "    \"latterly\", \"least\", \"less\", \"ltd\", \"made\", \"many\", \"may\", \"me\",\n",
      "    \"meanwhile\", \"might\", \"mill\", \"mine\", \"more\", \"moreover\", \"most\", \"mostly\",\n",
      "    \"move\", \"much\", \"must\", \"my\", \"myself\", \"name\", \"namely\", \"neither\",\n",
      "    \"never\", \"nevertheless\", \"next\", \"nine\", \"no\", \"nobody\", \"none\", \"noone\",\n",
      "    \"nor\", \"not\", \"nothing\", \"now\", \"nowhere\", \"of\", \"off\", \"often\", \"on\",\n",
      "    \"once\", \"one\", \"only\", \"onto\", \"or\", \"other\", \"others\", \"otherwise\", \"our\",\n",
      "    \"ours\", \"ourselves\", \"out\", \"over\", \"own\", \"part\", \"per\", \"perhaps\",\n",
      "    \"please\", \"put\", \"rather\", \"re\", \"same\", \"see\", \"seem\", \"seemed\",\n",
      "    \"seeming\", \"seems\", \"serious\", \"several\", \"she\", \"should\", \"show\", \"side\",\n",
      "    \"since\", \"sincere\", \"six\", \"sixty\", \"so\", \"some\", \"somehow\", \"someone\",\n",
      "    \"something\", \"sometime\", \"sometimes\", \"somewhere\", \"still\", \"such\",\n",
      "    \"system\", \"take\", \"ten\", \"than\", \"that\", \"the\", \"their\", \"them\",\n",
      "    \"themselves\", \"then\", \"thence\", \"there\", \"thereafter\", \"thereby\",\n",
      "    \"therefore\", \"therein\", \"thereupon\", \"these\", \"they\", \"thick\", \"thin\",\n",
      "    \"third\", \"this\", \"those\", \"though\", \"three\", \"through\", \"throughout\",\n",
      "    \"thru\", \"thus\", \"to\", \"together\", \"too\", \"top\", \"toward\", \"towards\",\n",
      "    \"twelve\", \"twenty\", \"two\", \"un\", \"under\", \"until\", \"up\", \"upon\", \"us\",\n",
      "    \"very\", \"via\", \"was\", \"we\", \"well\", \"were\", \"what\", \"whatever\", \"when\",\n",
      "    \"whence\", \"whenever\", \"where\", \"whereafter\", \"whereas\", \"whereby\",\n",
      "    \"wherein\", \"whereupon\", \"wherever\", \"whether\", \"which\", \"while\", \"whither\",\n",
      "    \"who\", \"whoever\", \"whole\", \"whom\", \"whose\", \"why\", \"will\", \"with\",\n",
      "    \"within\", \"without\", \"would\", \"yet\", \"you\", \"your\", \"yours\", \"yourself\",\n",
      "    \"yourselves\"]"
     ],
     "language": "python",
     "metadata": {},
     "outputs": [],
     "prompt_number": 61
    },
    {
     "cell_type": "code",
     "collapsed": false,
     "input": [
      "stops = ['http', 'rt']\n",
      "stops.extend(ENGLISH_STOP_WORDS)"
     ],
     "language": "python",
     "metadata": {},
     "outputs": [],
     "prompt_number": 62
    },
    {
     "cell_type": "code",
     "collapsed": false,
     "input": [
      "makeVector = TfidfVectorizer(analyzer=\"word\", stop_words=stops)\n",
      "print makeVector"
     ],
     "language": "python",
     "metadata": {},
     "outputs": [
      {
       "output_type": "stream",
       "stream": "stdout",
       "text": [
        "TfidfVectorizer(analyzer='word', binary=False, charset=None,\n",
        "        charset_error=None, decode_error=u'strict',\n",
        "        dtype=<type 'numpy.int64'>, encoding=u'utf-8', input=u'content',\n",
        "        lowercase=True, max_df=1.0, max_features=None, min_df=1,\n",
        "        ngram_range=(1, 1), norm=u'l2', preprocessor=None, smooth_idf=True,\n",
        "        stop_words=['http', 'rt', 'a', 'about', 'above', 'across', 'after', 'afterwards', 'again', 'against', 'all', 'almost', 'alone', 'along', 'already', 'also', 'although', 'always', 'am', 'among', 'amongst', 'amoungst', 'amount', 'an', 'and', 'another', 'any', 'anyhow', 'anyone', 'anything', 'anyway', '...ill', 'with', 'within', 'without', 'would', 'yet', 'you', 'your', 'yours', 'yourself', 'yourselves'],\n",
        "        strip_accents=None, sublinear_tf=False,\n",
        "        token_pattern=u'(?u)\\\\b\\\\w\\\\w+\\\\b', tokenizer=None, use_idf=True,\n",
        "        vocabulary=None)\n"
       ]
      }
     ],
     "prompt_number": 63
    },
    {
     "cell_type": "code",
     "collapsed": false,
     "input": [
      "# create vector from raw documents (X)\n",
      "X = makeVector.fit_transform(TEXT)\n",
      "print X.shape\n",
      "# print X\n",
      "\n",
      "# create numpy array of labels\n",
      "# numpy arrays = n-dimensional array with collection of items all the same type. Homogenous.\n",
      "y = np.array(LABELS)\n",
      "print y.shape"
     ],
     "language": "python",
     "metadata": {},
     "outputs": [
      {
       "output_type": "stream",
       "stream": "stdout",
       "text": [
        "(60291, 87877)\n",
        "(60291,)\n"
       ]
      }
     ],
     "prompt_number": 64
    },
    {
     "cell_type": "code",
     "collapsed": false,
     "input": [
      "def get_fraction_np(text_list, label_list):\n",
      "    \"\"\"\n",
      "    Get fraction of training data that is associated with \"np\" (nonpolitical)\n",
      "    label.\n",
      "    \"\"\"\n",
      "    # get number of nonpolitical\n",
      "    np_list = [label for label in label_list if label == 'np']\n",
      "    \n",
      "#     print len(text_list)\n",
      "#     print len(np_list)\n",
      "    \n",
      "    return float(len(np_list))/float(len(text_list))\n",
      "\n",
      "print get_fraction_np(TEXT, LABELS)"
     ],
     "language": "python",
     "metadata": {},
     "outputs": [
      {
       "output_type": "stream",
       "stream": "stdout",
       "text": [
        "0.585228309366\n"
       ]
      }
     ],
     "prompt_number": 65
    },
    {
     "cell_type": "code",
     "collapsed": false,
     "input": [
      "clf = LogisticRegression(class_weight=\"auto\")"
     ],
     "language": "python",
     "metadata": {},
     "outputs": [],
     "prompt_number": 145
    },
    {
     "cell_type": "code",
     "collapsed": false,
     "input": [
      "clf.fit(X, y)\n"
     ],
     "language": "python",
     "metadata": {},
     "outputs": [
      {
       "metadata": {},
       "output_type": "pyout",
       "prompt_number": 146,
       "text": [
        "LogisticRegression(C=1.0, class_weight='auto', dual=False, fit_intercept=True,\n",
        "          intercept_scaling=1, penalty='l2', random_state=None, tol=0.0001)"
       ]
      }
     ],
     "prompt_number": 146
    },
    {
     "cell_type": "code",
     "collapsed": false,
     "input": [
      "Kfolds = 5"
     ],
     "language": "python",
     "metadata": {},
     "outputs": [],
     "prompt_number": 147
    },
    {
     "cell_type": "code",
     "collapsed": false,
     "input": [
      "cv = cross_validation.StratifiedKFold(y, Kfolds)"
     ],
     "language": "python",
     "metadata": {},
     "outputs": [],
     "prompt_number": 148
    },
    {
     "cell_type": "code",
     "collapsed": false,
     "input": [
      "precision = []\n",
      "recall = []\n",
      "\n",
      "for train, test in cv:\n",
      "    X_train = X[train]\n",
      "    X_test = X[test]\n",
      "    y_train = y[train]\n",
      "    y_test = y[test]\n",
      "\n",
      "    clf.fit(X_train, y_train)\n",
      "\n",
      "    y_hat = clf.predict(X_test)\n",
      "\n",
      "    p,r,f1_score,support = metrics.precision_recall_fscore_support(y_test, y_hat)\n",
      "\n",
      "    precision.append(p[1])\n",
      "    recall.append(r[1])\n",
      "\n",
      "print 'avg precision:',np.average(precision), '+/-', np.std(precision)\n",
      "print 'avg recall:', np.average(recall), '+/-', np.std(recall)\n",
      "print 'f1 measure', f1_score\n",
      "\n",
      "print \"clf: \", clf\n",
      "print \"cv: \", cv"
     ],
     "language": "python",
     "metadata": {},
     "outputs": [
      {
       "output_type": "stream",
       "stream": "stdout",
       "text": [
        "avg precision: 0.761841977773 +/- 0.0810745325592\n",
        "avg recall: 0.942015651248 +/- 0.0221583698571\n",
        "f1 measure [ 0.94858798  0.93109472]\n",
        "clf:  LogisticRegression(C=1.0, class_weight='auto', dual=False, fit_intercept=True,\n",
        "          intercept_scaling=1, penalty='l2', random_state=None, tol=0.0001)\n",
        "cv:  sklearn.cross_validation.StratifiedKFold(labels=['p' 'p' 'p' ..., 'p' 'p' 'p'], n_folds=5, shuffle=False, random_state=None)\n"
       ]
      }
     ],
     "prompt_number": 150
    },
    {
     "cell_type": "code",
     "collapsed": false,
     "input": [
      "with open('classifierLR.pkl', 'wb') as fid:\n",
      "    pickle.dump(clf, fid)"
     ],
     "language": "python",
     "metadata": {},
     "outputs": [],
     "prompt_number": 151
    },
    {
     "cell_type": "code",
     "collapsed": false,
     "input": [
      "tweet1 = 'This Veterans Day, join me at #TheConcertForValor, a free event at the #NationalMall in Washington DC https://www.youtube.com/watch?v=U8NtbVL-CKM \u2026'\n",
      "tweet2 = 'Here is our piece on Iraqi and Afghani translators from last night. Buckle up. http://www.youtube.com/watch?v=QplQL5eAxlY&list=UU3XTzVzaHQEd30rQbuvCtTQ&index=1 \u2026'"
     ],
     "language": "python",
     "metadata": {},
     "outputs": [],
     "prompt_number": 152
    },
    {
     "cell_type": "code",
     "collapsed": false,
     "input": [
      "# concatenate tweets to make a 'timeline' -- \n",
      "# roughly equivalent to rating each tweet separately and then averaging based on this example data\n",
      "timeline = [tweet1, tweet2]\n",
      "sample = makeVector.transform(timeline)"
     ],
     "language": "python",
     "metadata": {},
     "outputs": [],
     "prompt_number": 153
    },
    {
     "cell_type": "code",
     "collapsed": false,
     "input": [
      "print sample"
     ],
     "language": "python",
     "metadata": {},
     "outputs": [
      {
       "output_type": "stream",
       "stream": "stdout",
       "text": [
        "  (0, 86082)\t0.260768493071\n",
        "  (0, 83884)\t0.409864219121\n",
        "  (0, 81831)\t0.253641773753\n",
        "  (0, 81809)\t0.313798315677\n",
        "  (0, 80119)\t0.323722928785\n",
        "  (0, 42219)\t0.27150157644\n",
        "  (0, 37300)\t0.187901262165\n",
        "  (0, 30919)\t0.167011335914\n",
        "  (0, 27853)\t0.334061373706\n",
        "  (0, 22474)\t0.318459134838\n",
        "  (0, 22408)\t0.219124773653\n",
        "  (0, 19647)\t0.313798315677\n",
        "  (1, 86082)\t0.247584439993\n",
        "  (1, 83884)\t0.38914211594\n",
        "  (1, 81831)\t0.240818036619\n",
        "  (1, 59520)\t0.30604474877\n",
        "  (1, 54459)\t0.235474643621\n",
        "  (1, 47166)\t0.293493857349\n",
        "  (1, 39920)\t0.383977375005\n",
        "  (1, 39032)\t0.395104371787\n",
        "  (1, 19647)\t0.297933156505\n",
        "  (1, 15829)\t0.318930143932\n"
       ]
      }
     ],
     "prompt_number": 154
    },
    {
     "cell_type": "code",
     "collapsed": false,
     "input": [
      "# get classifier from pickle\n",
      "with open('classifierLR.pkl', 'rb') as fid:\n",
      "    clf2 = pickle.load(fid)\n",
      "    \n",
      "print clf2"
     ],
     "language": "python",
     "metadata": {},
     "outputs": [
      {
       "output_type": "stream",
       "stream": "stdout",
       "text": [
        "LogisticRegression(C=1.0, class_weight='auto', dual=False, fit_intercept=True,\n",
        "          intercept_scaling=1, penalty='l2', random_state=None, tol=0.0001)\n"
       ]
      }
     ],
     "prompt_number": 155
    },
    {
     "cell_type": "code",
     "collapsed": false,
     "input": [
      "# class prediction\n",
      "prediction = clf2.predict(sample)\n",
      "print prediction\n",
      "\n",
      "# probabilities of belonging to class == SCORE!\n",
      "probs = clf2.predict_proba(sample)\n",
      "print probs\n",
      "print type(probs)"
     ],
     "language": "python",
     "metadata": {},
     "outputs": [
      {
       "output_type": "stream",
       "stream": "stdout",
       "text": [
        "['p' 'p']\n",
        "[[ 0.29143267  0.70856733]\n",
        " [ 0.25361912  0.74638088]]\n",
        "<type 'numpy.ndarray'>\n"
       ]
      }
     ],
     "prompt_number": 156
    },
    {
     "cell_type": "code",
     "collapsed": false,
     "input": [
      "def average_political_score(probs):\n",
      "    score = 0\n",
      "    \n",
      "    print len(probs)\n",
      "    \n",
      "    for prob in probs:\n",
      "        score += prob.item(1)\n",
      "            \n",
      "    # higher probabilities in logistic regression indicate p timeline now\n",
      "    # ndarray ordered lexigraphically (np before p)\n",
      "    average_score = score/len(probs)\n",
      "    print average_score\n",
      "    \n",
      "    return average_score"
     ],
     "language": "python",
     "metadata": {},
     "outputs": [],
     "prompt_number": 157
    },
    {
     "cell_type": "code",
     "collapsed": false,
     "input": [
      "average_political_score(probs)"
     ],
     "language": "python",
     "metadata": {},
     "outputs": [
      {
       "output_type": "stream",
       "stream": "stdout",
       "text": [
        "2\n",
        "0.727474107396\n"
       ]
      },
      {
       "metadata": {},
       "output_type": "pyout",
       "prompt_number": 158,
       "text": [
        "0.7274741073955193"
       ]
      }
     ],
     "prompt_number": 158
    },
    {
     "cell_type": "code",
     "collapsed": false,
     "input": [
      "def connect_to_API():\n",
      "    \"\"\"\n",
      "    Create instance of tweepy API class with OAuth keys and tokens.\n",
      "    \"\"\"\n",
      "    # initialize tweepy api object with auth, OAuth\n",
      "    TWITTER_API_KEY=os.environ.get('TWITTER_API_KEY')\n",
      "    TWITTER_SECRET_KEY=os.environ.get('TWITTER_SECRET_KEY')\n",
      "    TWITTER_ACCESS_TOKEN=os.environ.get('TWITTER_ACCESS_TOKEN')\n",
      "    TWITTER_SECRET_TOKEN=os.environ.get('TWITTER_SECRET_TOKEN')\n",
      "\n",
      "    auth = tweepy.OAuthHandler(TWITTER_API_KEY, TWITTER_SECRET_KEY, secure=True)\n",
      "    auth.set_access_token(TWITTER_ACCESS_TOKEN, TWITTER_SECRET_TOKEN)\n",
      "    api = tweepy.API(auth, cache=None) #removed wait_on_rate_limit=True, wait_on_rate_limit_notify=True\n",
      "    return api"
     ],
     "language": "python",
     "metadata": {},
     "outputs": [],
     "prompt_number": 159
    },
    {
     "cell_type": "code",
     "collapsed": false,
     "input": [
      "api = connect_to_API()"
     ],
     "language": "python",
     "metadata": {},
     "outputs": [],
     "prompt_number": 160
    },
    {
     "cell_type": "code",
     "collapsed": false,
     "input": [
      "def get_timeline(api, uid, count):\n",
      "    \"\"\"Get n number of tweets by passing in user id and number of statuses.\n",
      "        If user has protected tweets, returns [] rather than break the program.\n",
      "    \"\"\"\n",
      "    try:\n",
      "        feed = tweepy.Cursor(api.user_timeline, id=uid, include_rts=True).items(count)\n",
      "        # logging.info(\"\\n\\n\\n\", \"Get timeline: \", feed, \"\\n\\n\\n\")\n",
      "        print \"get request timeline\"\n",
      "        return feed\n",
      "\n",
      "    except tweepy.TweepError as e:\n",
      "        print e.message[0][\"error\"]\n",
      "        return []"
     ],
     "language": "python",
     "metadata": {},
     "outputs": [],
     "prompt_number": 161
    },
    {
     "cell_type": "code",
     "collapsed": false,
     "input": [
      "maddow = get_timeline(api, \"maddow\", 20)"
     ],
     "language": "python",
     "metadata": {},
     "outputs": [
      {
       "output_type": "stream",
       "stream": "stdout",
       "text": [
        "get request timeline\n"
       ]
      }
     ],
     "prompt_number": 162
    },
    {
     "cell_type": "code",
     "collapsed": false,
     "input": [
      "kimkardashian = get_timeline(api, \"KimKardashian\", 20)\n",
      "scalzi = get_timeline(api, \"scalzi\", 20)"
     ],
     "language": "python",
     "metadata": {},
     "outputs": [
      {
       "output_type": "stream",
       "stream": "stdout",
       "text": [
        "get request timeline\n",
        "get request timeline\n"
       ]
      }
     ],
     "prompt_number": 170
    },
    {
     "cell_type": "code",
     "collapsed": false,
     "input": [
      "timeline = []"
     ],
     "language": "python",
     "metadata": {},
     "outputs": [],
     "prompt_number": 171
    },
    {
     "cell_type": "code",
     "collapsed": false,
     "input": [
      "for tweet in kimkardashian:\n",
      "    timeline.append(tweet.text)"
     ],
     "language": "python",
     "metadata": {},
     "outputs": [],
     "prompt_number": 172
    },
    {
     "cell_type": "code",
     "collapsed": false,
     "input": [
      "sample = makeVector.transform(timeline)\n",
      "print sample"
     ],
     "language": "python",
     "metadata": {},
     "outputs": [
      {
       "output_type": "stream",
       "stream": "stdout",
       "text": [
        "  (0, 63923)\t0.364285762612\n",
        "  (0, 54063)\t0.230272299351\n",
        "  (0, 51175)\t0.417140543631\n",
        "  (0, 25897)\t0.452347113938\n",
        "  (0, 19363)\t0.487602514732\n",
        "  (0, 3412)\t0.444848507145\n",
        "  (1, 67909)\t0.354553928277\n",
        "  (1, 50564)\t0.332071721873\n",
        "  (1, 50193)\t0.322658150686\n",
        "  (1, 45351)\t0.440873478729\n",
        "  (1, 33700)\t0.440873478729\n",
        "  (1, 32990)\t0.346341997867\n",
        "  (1, 12776)\t0.388870123936\n",
        "  (2, 72495)\t0.404998354488\n",
        "  (2, 54063)\t0.317286626166\n",
        "  (2, 27319)\t0.575921215381\n",
        "  (2, 17346)\t0.635311170524\n",
        "  (3, 84755)\t0.452181611484\n",
        "  (3, 77253)\t0.422670413594\n",
        "  (3, 74599)\t0.256007150394\n",
        "  (3, 72640)\t0.266691862784\n",
        "  (3, 66544)\t0.388144525359\n",
        "  (3, 47854)\t0.166567517764\n",
        "  (3, 44283)\t0.481692809374\n",
        "  (3, 9529)\t0.264174994725\n",
        "  :\t:\n",
        "  (15, 54063)\t0.275459394921\n",
        "  (15, 47806)\t0.549328247611\n",
        "  (15, 28957)\t0.370885509697\n",
        "  (15, 14032)\t0.333955841946\n",
        "  (16, 81036)\t1.0\n",
        "  (17, 74587)\t0.254960484142\n",
        "  (17, 51852)\t0.433227977054\n",
        "  (17, 45936)\t0.350642354215\n",
        "  (17, 30815)\t0.374991975853\n",
        "  (17, 28907)\t0.433227977054\n",
        "  (17, 25249)\t0.378170895161\n",
        "  (17, 16769)\t0.303831729807\n",
        "  (17, 9529)\t0.246426871126\n",
        "  (18, 58274)\t0.368365281609\n",
        "  (18, 54477)\t0.399098958496\n",
        "  (18, 50106)\t0.516104926332\n",
        "  (18, 47676)\t0.274984002448\n",
        "  (18, 32999)\t0.413407157656\n",
        "  (18, 9131)\t0.438338985313\n",
        "  (19, 40999)\t0.451629572656\n",
        "  (19, 40134)\t0.415515176048\n",
        "  (19, 29650)\t0.396268953607\n",
        "  (19, 20565)\t0.344499378408\n",
        "  (19, 19925)\t0.456672918957\n",
        "  (19, 1741)\t0.372986336682\n"
       ]
      }
     ],
     "prompt_number": 173
    },
    {
     "cell_type": "code",
     "collapsed": false,
     "input": [
      "# class prediction\n",
      "prediction = clf2.predict(sample)\n",
      "print prediction\n",
      "\n",
      "# probabilities of belonging to class == SCORE!\n",
      "probs = clf2.predict_proba(sample)\n",
      "print probs\n",
      "print zip(prediction, timeline)"
     ],
     "language": "python",
     "metadata": {},
     "outputs": [
      {
       "output_type": "stream",
       "stream": "stdout",
       "text": [
        "['p' 'p' 'np' 'np' 'p' 'p' 'p' 'p' 'np' 'p' 'np' 'p' 'np' 'p' 'np' 'p' 'p'\n",
        " 'p' 'np' 'p']\n",
        "[[ 0.36410643  0.63589357]\n",
        " [ 0.22958925  0.77041075]\n",
        " [ 0.90495513  0.09504487]\n",
        " [ 0.64278681  0.35721319]\n",
        " [ 0.04508847  0.95491153]\n",
        " [ 0.27044742  0.72955258]\n",
        " [ 0.24764397  0.75235603]\n",
        " [ 0.35104894  0.64895106]\n",
        " [ 0.55575762  0.44424238]\n",
        " [ 0.39884022  0.60115978]\n",
        " [ 0.63444233  0.36555767]\n",
        " [ 0.39659189  0.60340811]\n",
        " [ 0.57458717  0.42541283]\n",
        " [ 0.44195589  0.55804411]\n",
        " [ 0.96925332  0.03074668]\n",
        " [ 0.3715066   0.6284934 ]\n",
        " [ 0.36031926  0.63968074]\n",
        " [ 0.4975638   0.5024362 ]\n",
        " [ 0.50463906  0.49536094]\n",
        " [ 0.42112016  0.57887984]]\n",
        "[('p', 'East coast, only 45 minutes for an all new #KKTH. Are you ready?'), ('p', u'So glad I screen grabbed this Bday message from Kylie. This means so much to me \\u2764\\ufe0f http://t.co/tXNMVrG1Pa'), ('np', '#KKTH Sunday is here! Catch an all new episode at 9/8c only on E!'), ('np', 'I found an amazing kimye tumblr! http://t.co/2SZVzLvWe8  thanks for the love and support to whoever runs this! xoxoxo'), ('p', 'LOL http://t.co/XqcQmuwJSP'), ('p', 'Did you guys enjoy Thanksgiving???? http://t.co/EDl89pgiCm'), ('p', 'So JetLagged! I need to fall back asleep. My little lady wakes up in 3 hours! Ughhh'), ('p', 'Who shopped on Black Friday??? #DealsAllWeekend #KimKardashianGame http://t.co/eeZkqR4pxg'), ('np', 'Just posted some EBay auctions #Balmain #SaintLaurent #KardashianKollection &amp; more! http://t.co/yqGnYXpjwt\\n @auctioncause &amp; @ebaygivingworks'), ('p', u'North &amp; Georgia \\U0001f436 http://t.co/CTxsJEMNal'), ('np', u\"I'm so thankful for my best friend N+K=\\u2764\\ufe0f http://t.co/UuFE3DHo7u\"), ('p', \"Thank you for starting a new tradition Khlo! Thanksgiving at Koko's\"), ('np', \"Happy Thanksgiving! I'm so thankful to have spent the day with my whole family over at Khloes house today! Khloe cooked so much yummy food!\"), ('p', \"My brother @robkardashian's @arthurgeorge loungewear line is now in select Macy's stores! Go to http://t.co/kUS2qTDWIc for store list!\"), ('np', 'Happy Birthday @MIKESNEDEGAR !!!!!!! love you!!!!!!'), ('p', u'I\\u2019m obsessed with our new Black Bronzer\\u2026what\\u2019s your favorite #KardashianGlow lotion? http://t.co/DHHuHGPYY0'), ('p', u'#VroomVroom #DubaiDesert \\U0001f6a9\\U0001f6a7\\U0001f6a6\\U0001f6a9 http://t.co/2mv71Ezmtv'), ('p', 'Thank you to everyone that came out to my Fleur Fatale fragrance launch at Parfum Monde! Dubai has been amazing! http://t.co/YjB9SIjkGO'), ('np', 'Last nights look- Balmain top, Alexander McQueen pants Glam @joycebonelli @thescottycunha http://t.co/W2QreFq2pB'), ('p', \"Third and final cover for @ELLEUK's January 2015 Confidence Issue! http://t.co/JGxEyHOUYE http://t.co/xFkuRoXjKI\")]\n"
       ]
      }
     ],
     "prompt_number": 174
    },
    {
     "cell_type": "code",
     "collapsed": false,
     "input": [
      "average_political_score(probs)"
     ],
     "language": "python",
     "metadata": {},
     "outputs": [
      {
       "output_type": "stream",
       "stream": "stdout",
       "text": [
        "20\n",
        "0.54088781187\n"
       ]
      },
      {
       "metadata": {},
       "output_type": "pyout",
       "prompt_number": 175,
       "text": [
        "0.5408878118702691"
       ]
      }
     ],
     "prompt_number": 175
    },
    {
     "cell_type": "code",
     "collapsed": false,
     "input": [],
     "language": "python",
     "metadata": {},
     "outputs": [],
     "prompt_number": 104
    },
    {
     "cell_type": "code",
     "collapsed": false,
     "input": [],
     "language": "python",
     "metadata": {},
     "outputs": []
    }
   ],
   "metadata": {}
  }
 ]
}