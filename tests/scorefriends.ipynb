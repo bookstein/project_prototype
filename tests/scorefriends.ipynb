{
 "metadata": {
  "name": "",
  "signature": "sha256:335f17acfd24562637af95e23e5a8f245debbf5d5352e63d6191f1b01b426e38"
 },
 "nbformat": 3,
 "nbformat_minor": 0,
 "worksheets": [
  {
   "cells": [
    {
     "cell_type": "code",
     "collapsed": false,
     "input": [
      "from flask import Flask, request, render_template, redirect\n",
      "import os\n",
      "from friends import User\n"
     ],
     "language": "python",
     "metadata": {},
     "outputs": [],
     "prompt_number": 1
    },
    {
     "cell_type": "code",
     "collapsed": false,
     "input": [
      "screen_name = \"bookstein\""
     ],
     "language": "python",
     "metadata": {},
     "outputs": [],
     "prompt_number": 2
    },
    {
     "cell_type": "code",
     "collapsed": false,
     "input": [
      "user = User()\n",
      "user.CURRENT_USER = screen_name\n",
      "user.USER_SCORE = user.score_user()"
     ],
     "language": "python",
     "metadata": {},
     "outputs": [
      {
       "output_type": "stream",
       "stream": "stdout",
       "text": [
        "31\n"
       ]
      }
     ],
     "prompt_number": 3
    },
    {
     "cell_type": "code",
     "collapsed": false,
     "input": [
      "friend_ids = user.get_friend_ids(screen_name)\n",
      "print friend_ids"
     ],
     "language": "python",
     "metadata": {},
     "outputs": [
      {
       "output_type": "stream",
       "stream": "stdout",
       "text": [
        "<tweepy.cursor.ItemIterator object at 0x1039f3890>\n"
       ]
      }
     ],
     "prompt_number": 4
    },
    {
     "cell_type": "code",
     "collapsed": false,
     "input": [
      "friendlist = []"
     ],
     "language": "python",
     "metadata": {},
     "outputs": [],
     "prompt_number": 5
    },
    {
     "cell_type": "code",
     "collapsed": false,
     "input": [
      "for friend in friend_ids:\n",
      "    friend = User()\n",
      "    friend.USER_SCORE = friend.score_user()\n",
      "    friendlist.append(friend)\n",
      "\n",
      "for friend in friendlist:\n",
      "    print \"friend=\", friend"
     ],
     "language": "python",
     "metadata": {},
     "outputs": [
      {
       "output_type": "stream",
       "stream": "stdout",
       "text": [
        "friend= <friends.User object at 0x1039f3450>\n",
        "friend= <friends.User object at 0x1039f8410>\n",
        "friend= <friends.User object at 0x1039f85d0>\n",
        "friend= <friends.User object at 0x1039f8790>\n",
        "friend= <friends.User object at 0x1039f8950>\n",
        "friend= <friends.User object at 0x1039f8b10>\n",
        "friend= <friends.User object at 0x1039f8cd0>\n",
        "friend= <friends.User object at 0x1039f8e90>\n",
        "friend= <friends.User object at 0x1039fb090>\n",
        "friend= <friends.User object at 0x1039fb250>\n",
        "friend= <friends.User object at 0x1039fb410>\n",
        "friend= <friends.User object at 0x1039fb5d0>\n",
        "friend= <friends.User object at 0x1039fb790>\n",
        "friend= <friends.User object at 0x1039fb950>\n",
        "friend= <friends.User object at 0x1039fbb10>\n",
        "friend= <friends.User object at 0x1039fbcd0>\n",
        "friend= <friends.User object at 0x1039fbe90>\n",
        "friend= <friends.User object at 0x1039fc090>\n",
        "friend= <friends.User object at 0x1039fc250>\n",
        "friend= <friends.User object at 0x1039fc410>\n",
        "friend= <friends.User object at 0x1039fc5d0>\n",
        "friend= <friends.User object at 0x1039fc790>\n",
        "friend= <friends.User object at 0x1039fc950>\n",
        "friend= <friends.User object at 0x1039fcb10>\n",
        "friend= <friends.User object at 0x1039fccd0>\n",
        "friend= <friends.User object at 0x1039fce90>\n",
        "friend= <friends.User object at 0x1039fd090>\n",
        "friend= <friends.User object at 0x1039fd250>\n",
        "friend= <friends.User object at 0x1039fd410>\n",
        "friend= <friends.User object at 0x1039fd5d0>\n",
        "friend= <friends.User object at 0x1039fd790>\n",
        "friend= <friends.User object at 0x1039fd950>\n",
        "friend= <friends.User object at 0x1039fdb10>\n",
        "friend= <friends.User object at 0x1039fdcd0>\n",
        "friend= <friends.User object at 0x1039fde90>\n",
        "friend= <friends.User object at 0x1039fe090>\n",
        "friend= <friends.User object at 0x1039fe250>\n",
        "friend= <friends.User object at 0x1039fe410>\n",
        "friend= <friends.User object at 0x1039fe5d0>\n",
        "friend= <friends.User object at 0x1039fe790>\n",
        "friend= <friends.User object at 0x1039fe950>\n",
        "friend= <friends.User object at 0x1039feb10>\n",
        "friend= <friends.User object at 0x1039fecd0>\n",
        "friend= <friends.User object at 0x1039fee90>\n",
        "friend= <friends.User object at 0x1039ff090>\n",
        "friend= <friends.User object at 0x1039ff250>\n",
        "friend= <friends.User object at 0x1039ff410>\n",
        "friend= <friends.User object at 0x1039ff5d0>\n",
        "friend= <friends.User object at 0x1039ff790>\n",
        "friend= <friends.User object at 0x1039ff950>\n",
        "friend= <friends.User object at 0x1039ffb10>\n",
        "friend= <friends.User object at 0x1039ffcd0>\n",
        "friend= <friends.User object at 0x1039ffe90>\n",
        "friend= <friends.User object at 0x103a00090>\n",
        "friend= <friends.User object at 0x103a00250>\n",
        "friend= <friends.User object at 0x103a00410>\n",
        "friend= <friends.User object at 0x103a005d0>\n",
        "friend= <friends.User object at 0x103a00790>\n",
        "friend= <friends.User object at 0x103a00950>\n",
        "friend= <friends.User object at 0x103a00b10>\n",
        "friend= <friends.User object at 0x103a00cd0>\n",
        "friend= <friends.User object at 0x103a00e90>\n",
        "friend= <friends.User object at 0x103a01090>\n",
        "friend= <friends.User object at 0x103a01250>\n",
        "friend= <friends.User object at 0x103a01410>\n",
        "friend= <friends.User object at 0x103a015d0>\n",
        "friend= <friends.User object at 0x103a01790>\n",
        "friend= <friends.User object at 0x103a01950>\n",
        "friend= <friends.User object at 0x103a01b10>\n",
        "friend= <friends.User object at 0x103a01cd0>\n",
        "friend= <friends.User object at 0x103a01e90>\n",
        "friend= <friends.User object at 0x103a02090>\n",
        "friend= <friends.User object at 0x103a02250>\n",
        "friend= <friends.User object at 0x103a02410>\n",
        "friend= <friends.User object at 0x103a025d0>\n",
        "friend= <friends.User object at 0x103a02790>\n",
        "friend= <friends.User object at 0x103a02950>\n",
        "friend= <friends.User object at 0x103a02b10>\n",
        "friend= <friends.User object at 0x103a02cd0>\n",
        "friend= <friends.User object at 0x103a02e90>\n",
        "friend= <friends.User object at 0x103a03090>\n",
        "friend= <friends.User object at 0x103a03250>\n",
        "friend= <friends.User object at 0x103a03410>\n",
        "friend= <friends.User object at 0x103a035d0>\n",
        "friend= <friends.User object at 0x103a03790>\n",
        "friend= <friends.User object at 0x103a03950>\n",
        "friend= <friends.User object at 0x103a03b10>\n",
        "friend= <friends.User object at 0x103a03cd0>\n",
        "friend= <friends.User object at 0x103a03e90>\n",
        "friend= <friends.User object at 0x103a04090>\n",
        "friend= <friends.User object at 0x103a04250>\n",
        "friend= <friends.User object at 0x103a04410>\n",
        "friend= <friends.User object at 0x103a045d0>\n",
        "friend= <friends.User object at 0x103a04790>\n",
        "friend= <friends.User object at 0x103a04950>\n",
        "friend= <friends.User object at 0x103a04b10>\n",
        "friend= <friends.User object at 0x103a04cd0>\n",
        "friend= <friends.User object at 0x103a04e90>\n",
        "friend= <friends.User object at 0x103a05090>\n",
        "friend= <friends.User object at 0x103a05250>\n",
        "friend= <friends.User object at 0x103a05410>\n",
        "friend= <friends.User object at 0x103a055d0>\n",
        "friend= <friends.User object at 0x103a05790>\n",
        "friend= <friends.User object at 0x103a05950>\n",
        "friend= <friends.User object at 0x103a05b10>\n",
        "friend= <friends.User object at 0x103a05cd0>\n",
        "friend= <friends.User object at 0x103a05e90>\n",
        "friend= <friends.User object at 0x103b0c090>\n",
        "friend= <friends.User object at 0x103b0c250>\n",
        "friend= <friends.User object at 0x103b0c410>\n",
        "friend= <friends.User object at 0x103b0c5d0>\n",
        "friend= <friends.User object at 0x103b0c790>\n",
        "friend= <friends.User object at 0x103b0c950>\n",
        "friend= <friends.User object at 0x103b0cb10>\n",
        "friend= <friends.User object at 0x103b0ccd0>\n",
        "friend= <friends.User object at 0x103b0ce90>\n",
        "friend= <friends.User object at 0x103b0d090>\n",
        "friend= <friends.User object at 0x103b0d250>\n",
        "friend= <friends.User object at 0x103b0d410>\n",
        "friend= <friends.User object at 0x103b0d5d0>\n",
        "friend= <friends.User object at 0x103b0d790>\n",
        "friend= <friends.User object at 0x103b0d950>\n",
        "friend= <friends.User object at 0x103b0db10>\n",
        "friend= <friends.User object at 0x103b0dcd0>\n",
        "friend= <friends.User object at 0x103b0de90>\n",
        "friend= <friends.User object at 0x103b0e090>\n",
        "friend= <friends.User object at 0x103b0e250>\n",
        "friend= <friends.User object at 0x103b0e410>\n",
        "friend= <friends.User object at 0x103b0e5d0>\n",
        "friend= <friends.User object at 0x103b0e790>\n",
        "friend= <friends.User object at 0x103b0e950>\n",
        "friend= <friends.User object at 0x103b0eb10>\n",
        "friend= <friends.User object at 0x103b0ecd0>\n",
        "friend= <friends.User object at 0x103b0ee90>\n",
        "friend= <friends.User object at 0x103b0f090>\n",
        "friend= <friends.User object at 0x103b0f250>\n",
        "friend= <friends.User object at 0x103b0f410>\n",
        "friend= <friends.User object at 0x103b0f5d0>\n",
        "friend= <friends.User object at 0x103b0f790>\n",
        "friend= <friends.User object at 0x103b0f950>\n",
        "friend= <friends.User object at 0x103b0fb10>\n"
       ]
      }
     ],
     "prompt_number": 8
    },
    {
     "cell_type": "code",
     "collapsed": false,
     "input": [],
     "language": "python",
     "metadata": {},
     "outputs": []
    }
   ],
   "metadata": {}
  }
 ]
}