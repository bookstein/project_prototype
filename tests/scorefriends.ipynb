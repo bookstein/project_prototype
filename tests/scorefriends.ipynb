{
 "metadata": {
  "name": "",
  "signature": "sha256:c4ef7df9a01dae25ecb46bb400160276ec21fac01618b6d8998a78432f844bc8"
 },
 "nbformat": 3,
 "nbformat_minor": 0,
 "worksheets": [
  {
   "cells": [
    {
     "cell_type": "code",
     "collapsed": false,
     "input": [
      "from flask import Flask, request, render_template, redirect\n",
      "import os\n",
      "from friends import User\n"
     ],
     "language": "python",
     "metadata": {},
     "outputs": [],
     "prompt_number": 31
    },
    {
     "cell_type": "code",
     "collapsed": false,
     "input": [
      "screen_name = \"bookstein\""
     ],
     "language": "python",
     "metadata": {},
     "outputs": [],
     "prompt_number": 32
    },
    {
     "cell_type": "code",
     "collapsed": false,
     "input": [
      "user = User()\n",
      "user.CURRENT_USER = screen_name\n",
      "user.USER_SCORE = user.score_user()"
     ],
     "language": "python",
     "metadata": {},
     "outputs": [
      {
       "output_type": "stream",
       "stream": "stdout",
       "text": [
        "24\n"
       ]
      }
     ],
     "prompt_number": 33
    },
    {
     "cell_type": "code",
     "collapsed": false,
     "input": [
      "friend_ids = user.get_friend_ids(screen_name)\n",
      "print friend_ids"
     ],
     "language": "python",
     "metadata": {},
     "outputs": [
      {
       "output_type": "stream",
       "stream": "stdout",
       "text": [
        "<tweepy.cursor.ItemIterator object at 0x103a0c750>\n"
       ]
      }
     ],
     "prompt_number": 44
    },
    {
     "cell_type": "code",
     "collapsed": false,
     "input": [
      "test_ids = [158414847, 16129920, 113821810, 9781132, 574666372, 201872035, 14589511, 2347870219, 18120105, 73238979, 2198738964, 1386661, 30768854, 433917738, 2545462286, 1713104221, 2376010364, 1537558634, 375134673, 18011472, 426455861, 21905305, 930505934, 337952930, 16955870, 42076927, 22642788, 495408179, 1265726480, 2388342001, 64809827, 38975663, 17177495, 470708968, 14905961, 262717382, 31824426, 148516724, 637292905, 823661, 47509268, 817083, 24908105, 194042592, 3573701, 15725199, 15522528, 221536247, 403662319, 622297973, 22253, 509020574, 1967300545, 777595, 194359715, 22231438, 250283782, 16693033, 6742522, 9677372, 69123273, 73060532, 52786408, 2280891721, 22984215, 167792994, 84472525, 393892710, 45300226, 832458295, 326617601, 19400197, 2194757065, 394333585, 16589206, 16935292, 18851248, 742143, 5392522, 307577710, 1178700896, 113810385, 1927953031, 14185715, 41278469, 20264502, 535807725, 961010989, 113043339, 742186806, 1547329232, 14478260, 15161984, 22217633, 14624974, 571202103, 383558512, 14145296, 14678017, 25024313, 158414847, 16129920, 113821810, 9781132, 574666372, 201872035, 14589511, 2347870219, 18120105, 73238979, 2198738964, 1386661, 30768854, 433917738, 2545462286, 1713104221, 2376010364, 1537558634, 375134673, 18011472, 426455861, 21905305, 930505934, 337952930, 16955870, 42076927, 22642788, 495408179, 1265726480, 2388342001, 64809827, 38975663, 17177495, 470708968, 14905961, 262717382, 31824426, 148516724, 637292905, 823661, 47509268, 817083, 24908105, 194042592, 3573701, 15725199, 15522528, 221536247, 403662319, 622297973, 22253, 509020574, 1967300545, 777595, 194359715, 22231438, 250283782, 16693033, 6742522, 9677372, 69123273, 73060532, 52786408, 2280891721, 22984215, 167792994, 84472525, 393892710, 45300226, 832458295, 326617601, 19400197, 2194757065, 394333585, 16589206, 16935292, 18851248, 742143, 5392522, 307577710, 1178700896, 113810385, 1927953031, 14185715, 41278469, 20264502, 535807725, 961010989, 113043339, 742186806, 1547329232, 14478260, 15161984, 22217633, 14624974, 571202103, 383558512, 14145296, 14678017, 25024313, 158414847, 16129920, 113821810, 9781132, 574666372, 201872035, 14589511, 2347870219, 18120105, 73238979, 2198738964, 1386661, 30768854, 433917738, 2545462286, 1713104221, 2376010364, 1537558634, 375134673, 18011472, 426455861, 21905305, 930505934, 337952930, 16955870, 42076927, 22642788, 495408179, 1265726480, 2388342001, 64809827, 38975663, 17177495, 470708968, 14905961, 262717382, 31824426, 148516724, 637292905, 823661, 47509268, 817083, 24908105, 194042592, 3573701, 15725199, 15522528, 221536247, 403662319, 622297973, 22253, 509020574, 1967300545, 777595, 194359715, 22231438, 250283782, 16693033, 6742522, 9677372, 69123273, 73060532, 52786408, 2280891721, 22984215, 167792994, 84472525, 393892710, 45300226, 832458295, 326617601, 19400197, 2194757065, 394333585, 16589206, 16935292, 18851248, 742143, 5392522, 307577710, 1178700896, 113810385, 1927953031, 14185715, 41278469, 20264502, 535807725, 961010989, 113043339, 742186806, 1547329232, 14478260, 15161984, 22217633, 14624974, 571202103, 383558512, 14145296, 14678017, 25024313]"
     ],
     "language": "python",
     "metadata": {},
     "outputs": [],
     "prompt_number": 48
    },
    {
     "cell_type": "code",
     "collapsed": false,
     "input": [
      "import itertools\n",
      "\n",
      "def paginate_friends(ids, page_size):\n",
      "    print \"working!\"\n",
      "    while True:\n",
      "        iterable1, iterable2 = itertools.tee(ids)\n",
      "        ids, page = (itertools.islice(iterable1, page_size, None),\n",
      "                list(itertools.islice(iterable2, page_size)))\n",
      "        if len(page) == 0:\n",
      "            break\n",
      "        # yield is a generator keyword\n",
      "        yield page"
     ],
     "language": "python",
     "metadata": {},
     "outputs": [],
     "prompt_number": 49
    },
    {
     "cell_type": "code",
     "collapsed": false,
     "input": [
      "for page in paginate_friends(test_ids, 100):\n",
      "    print page\n",
      "#     results = user.lookup_friends(page)\n",
      "#     for result in results:\n",
      "#         print result.screen_name"
     ],
     "language": "python",
     "metadata": {},
     "outputs": [
      {
       "output_type": "stream",
       "stream": "stdout",
       "text": [
        "working!\n",
        "[158414847, 16129920, 113821810, 9781132, 574666372, 201872035, 14589511, 2347870219, 18120105, 73238979, 2198738964, 1386661, 30768854, 433917738, 2545462286, 1713104221, 2376010364, 1537558634, 375134673, 18011472, 426455861, 21905305, 930505934, 337952930, 16955870, 42076927, 22642788, 495408179, 1265726480, 2388342001, 64809827, 38975663, 17177495, 470708968, 14905961, 262717382, 31824426, 148516724, 637292905, 823661, 47509268, 817083, 24908105, 194042592, 3573701, 15725199, 15522528, 221536247, 403662319, 622297973, 22253, 509020574, 1967300545, 777595, 194359715, 22231438, 250283782, 16693033, 6742522, 9677372, 69123273, 73060532, 52786408, 2280891721, 22984215, 167792994, 84472525, 393892710, 45300226, 832458295, 326617601, 19400197, 2194757065, 394333585, 16589206, 16935292, 18851248, 742143, 5392522, 307577710, 1178700896, 113810385, 1927953031, 14185715, 41278469, 20264502, 535807725, 961010989, 113043339, 742186806, 1547329232, 14478260, 15161984, 22217633, 14624974, 571202103, 383558512, 14145296, 14678017, 25024313]\n",
        "[158414847, 16129920, 113821810, 9781132, 574666372, 201872035, 14589511, 2347870219, 18120105, 73238979, 2198738964, 1386661, 30768854, 433917738, 2545462286, 1713104221, 2376010364, 1537558634, 375134673, 18011472, 426455861, 21905305, 930505934, 337952930, 16955870, 42076927, 22642788, 495408179, 1265726480, 2388342001, 64809827, 38975663, 17177495, 470708968, 14905961, 262717382, 31824426, 148516724, 637292905, 823661, 47509268, 817083, 24908105, 194042592, 3573701, 15725199, 15522528, 221536247, 403662319, 622297973, 22253, 509020574, 1967300545, 777595, 194359715, 22231438, 250283782, 16693033, 6742522, 9677372, 69123273, 73060532, 52786408, 2280891721, 22984215, 167792994, 84472525, 393892710, 45300226, 832458295, 326617601, 19400197, 2194757065, 394333585, 16589206, 16935292, 18851248, 742143, 5392522, 307577710, 1178700896, 113810385, 1927953031, 14185715, 41278469, 20264502, 535807725, 961010989, 113043339, 742186806, 1547329232, 14478260, 15161984, 22217633, 14624974, 571202103, 383558512, 14145296, 14678017, 25024313]\n",
        "[158414847, 16129920, 113821810, 9781132, 574666372, 201872035, 14589511, 2347870219, 18120105, 73238979, 2198738964, 1386661, 30768854, 433917738, 2545462286, 1713104221, 2376010364, 1537558634, 375134673, 18011472, 426455861, 21905305, 930505934, 337952930, 16955870, 42076927, 22642788, 495408179, 1265726480, 2388342001, 64809827, 38975663, 17177495, 470708968, 14905961, 262717382, 31824426, 148516724, 637292905, 823661, 47509268, 817083, 24908105, 194042592, 3573701, 15725199, 15522528, 221536247, 403662319, 622297973, 22253, 509020574, 1967300545, 777595, 194359715, 22231438, 250283782, 16693033, 6742522, 9677372, 69123273, 73060532, 52786408, 2280891721, 22984215, 167792994, 84472525, 393892710, 45300226, 832458295, 326617601, 19400197, 2194757065, 394333585, 16589206, 16935292, 18851248, 742143, 5392522, 307577710, 1178700896, 113810385, 1927953031, 14185715, 41278469, 20264502, 535807725, 961010989, 113043339, 742186806, 1547329232, 14478260, 15161984, 22217633, 14624974, 571202103, 383558512, 14145296, 14678017, 25024313]\n"
       ]
      }
     ],
     "prompt_number": 50
    },
    {
     "cell_type": "code",
     "collapsed": false,
     "input": [
      "friendlist = []"
     ],
     "language": "python",
     "metadata": {},
     "outputs": [],
     "prompt_number": 5
    },
    {
     "cell_type": "code",
     "collapsed": false,
     "input": [
      "for friend in friend_ids:\n",
      "    friend = User()\n",
      "    friend.USER_SCORE = friend.score_user()\n",
      "    friendlist.append(friend)\n",
      "\n",
      "for friend in friendlist:\n",
      "    print \"friend=\", friend"
     ],
     "language": "python",
     "metadata": {},
     "outputs": [
      {
       "output_type": "stream",
       "stream": "stdout",
       "text": [
        "friend= <friends.User object at 0x1039f3450>\n",
        "friend= <friends.User object at 0x1039f8410>\n",
        "friend= <friends.User object at 0x1039f85d0>\n",
        "friend= <friends.User object at 0x1039f8790>\n",
        "friend= <friends.User object at 0x1039f8950>\n",
        "friend= <friends.User object at 0x1039f8b10>\n",
        "friend= <friends.User object at 0x1039f8cd0>\n",
        "friend= <friends.User object at 0x1039f8e90>\n",
        "friend= <friends.User object at 0x1039fb090>\n",
        "friend= <friends.User object at 0x1039fb250>\n",
        "friend= <friends.User object at 0x1039fb410>\n",
        "friend= <friends.User object at 0x1039fb5d0>\n",
        "friend= <friends.User object at 0x1039fb790>\n",
        "friend= <friends.User object at 0x1039fb950>\n",
        "friend= <friends.User object at 0x1039fbb10>\n",
        "friend= <friends.User object at 0x1039fbcd0>\n",
        "friend= <friends.User object at 0x1039fbe90>\n",
        "friend= <friends.User object at 0x1039fc090>\n",
        "friend= <friends.User object at 0x1039fc250>\n",
        "friend= <friends.User object at 0x1039fc410>\n",
        "friend= <friends.User object at 0x1039fc5d0>\n",
        "friend= <friends.User object at 0x1039fc790>\n",
        "friend= <friends.User object at 0x1039fc950>\n",
        "friend= <friends.User object at 0x1039fcb10>\n",
        "friend= <friends.User object at 0x1039fccd0>\n",
        "friend= <friends.User object at 0x1039fce90>\n",
        "friend= <friends.User object at 0x1039fd090>\n",
        "friend= <friends.User object at 0x1039fd250>\n",
        "friend= <friends.User object at 0x1039fd410>\n",
        "friend= <friends.User object at 0x1039fd5d0>\n",
        "friend= <friends.User object at 0x1039fd790>\n",
        "friend= <friends.User object at 0x1039fd950>\n",
        "friend= <friends.User object at 0x1039fdb10>\n",
        "friend= <friends.User object at 0x1039fdcd0>\n",
        "friend= <friends.User object at 0x1039fde90>\n",
        "friend= <friends.User object at 0x1039fe090>\n",
        "friend= <friends.User object at 0x1039fe250>\n",
        "friend= <friends.User object at 0x1039fe410>\n",
        "friend= <friends.User object at 0x1039fe5d0>\n",
        "friend= <friends.User object at 0x1039fe790>\n",
        "friend= <friends.User object at 0x1039fe950>\n",
        "friend= <friends.User object at 0x1039feb10>\n",
        "friend= <friends.User object at 0x1039fecd0>\n",
        "friend= <friends.User object at 0x1039fee90>\n",
        "friend= <friends.User object at 0x1039ff090>\n",
        "friend= <friends.User object at 0x1039ff250>\n",
        "friend= <friends.User object at 0x1039ff410>\n",
        "friend= <friends.User object at 0x1039ff5d0>\n",
        "friend= <friends.User object at 0x1039ff790>\n",
        "friend= <friends.User object at 0x1039ff950>\n",
        "friend= <friends.User object at 0x1039ffb10>\n",
        "friend= <friends.User object at 0x1039ffcd0>\n",
        "friend= <friends.User object at 0x1039ffe90>\n",
        "friend= <friends.User object at 0x103a00090>\n",
        "friend= <friends.User object at 0x103a00250>\n",
        "friend= <friends.User object at 0x103a00410>\n",
        "friend= <friends.User object at 0x103a005d0>\n",
        "friend= <friends.User object at 0x103a00790>\n",
        "friend= <friends.User object at 0x103a00950>\n",
        "friend= <friends.User object at 0x103a00b10>\n",
        "friend= <friends.User object at 0x103a00cd0>\n",
        "friend= <friends.User object at 0x103a00e90>\n",
        "friend= <friends.User object at 0x103a01090>\n",
        "friend= <friends.User object at 0x103a01250>\n",
        "friend= <friends.User object at 0x103a01410>\n",
        "friend= <friends.User object at 0x103a015d0>\n",
        "friend= <friends.User object at 0x103a01790>\n",
        "friend= <friends.User object at 0x103a01950>\n",
        "friend= <friends.User object at 0x103a01b10>\n",
        "friend= <friends.User object at 0x103a01cd0>\n",
        "friend= <friends.User object at 0x103a01e90>\n",
        "friend= <friends.User object at 0x103a02090>\n",
        "friend= <friends.User object at 0x103a02250>\n",
        "friend= <friends.User object at 0x103a02410>\n",
        "friend= <friends.User object at 0x103a025d0>\n",
        "friend= <friends.User object at 0x103a02790>\n",
        "friend= <friends.User object at 0x103a02950>\n",
        "friend= <friends.User object at 0x103a02b10>\n",
        "friend= <friends.User object at 0x103a02cd0>\n",
        "friend= <friends.User object at 0x103a02e90>\n",
        "friend= <friends.User object at 0x103a03090>\n",
        "friend= <friends.User object at 0x103a03250>\n",
        "friend= <friends.User object at 0x103a03410>\n",
        "friend= <friends.User object at 0x103a035d0>\n",
        "friend= <friends.User object at 0x103a03790>\n",
        "friend= <friends.User object at 0x103a03950>\n",
        "friend= <friends.User object at 0x103a03b10>\n",
        "friend= <friends.User object at 0x103a03cd0>\n",
        "friend= <friends.User object at 0x103a03e90>\n",
        "friend= <friends.User object at 0x103a04090>\n",
        "friend= <friends.User object at 0x103a04250>\n",
        "friend= <friends.User object at 0x103a04410>\n",
        "friend= <friends.User object at 0x103a045d0>\n",
        "friend= <friends.User object at 0x103a04790>\n",
        "friend= <friends.User object at 0x103a04950>\n",
        "friend= <friends.User object at 0x103a04b10>\n",
        "friend= <friends.User object at 0x103a04cd0>\n",
        "friend= <friends.User object at 0x103a04e90>\n",
        "friend= <friends.User object at 0x103a05090>\n",
        "friend= <friends.User object at 0x103a05250>\n",
        "friend= <friends.User object at 0x103a05410>\n",
        "friend= <friends.User object at 0x103a055d0>\n",
        "friend= <friends.User object at 0x103a05790>\n",
        "friend= <friends.User object at 0x103a05950>\n",
        "friend= <friends.User object at 0x103a05b10>\n",
        "friend= <friends.User object at 0x103a05cd0>\n",
        "friend= <friends.User object at 0x103a05e90>\n",
        "friend= <friends.User object at 0x103b0c090>\n",
        "friend= <friends.User object at 0x103b0c250>\n",
        "friend= <friends.User object at 0x103b0c410>\n",
        "friend= <friends.User object at 0x103b0c5d0>\n",
        "friend= <friends.User object at 0x103b0c790>\n",
        "friend= <friends.User object at 0x103b0c950>\n",
        "friend= <friends.User object at 0x103b0cb10>\n",
        "friend= <friends.User object at 0x103b0ccd0>\n",
        "friend= <friends.User object at 0x103b0ce90>\n",
        "friend= <friends.User object at 0x103b0d090>\n",
        "friend= <friends.User object at 0x103b0d250>\n",
        "friend= <friends.User object at 0x103b0d410>\n",
        "friend= <friends.User object at 0x103b0d5d0>\n",
        "friend= <friends.User object at 0x103b0d790>\n",
        "friend= <friends.User object at 0x103b0d950>\n",
        "friend= <friends.User object at 0x103b0db10>\n",
        "friend= <friends.User object at 0x103b0dcd0>\n",
        "friend= <friends.User object at 0x103b0de90>\n",
        "friend= <friends.User object at 0x103b0e090>\n",
        "friend= <friends.User object at 0x103b0e250>\n",
        "friend= <friends.User object at 0x103b0e410>\n",
        "friend= <friends.User object at 0x103b0e5d0>\n",
        "friend= <friends.User object at 0x103b0e790>\n",
        "friend= <friends.User object at 0x103b0e950>\n",
        "friend= <friends.User object at 0x103b0eb10>\n",
        "friend= <friends.User object at 0x103b0ecd0>\n",
        "friend= <friends.User object at 0x103b0ee90>\n",
        "friend= <friends.User object at 0x103b0f090>\n",
        "friend= <friends.User object at 0x103b0f250>\n",
        "friend= <friends.User object at 0x103b0f410>\n",
        "friend= <friends.User object at 0x103b0f5d0>\n",
        "friend= <friends.User object at 0x103b0f790>\n",
        "friend= <friends.User object at 0x103b0f950>\n",
        "friend= <friends.User object at 0x103b0fb10>\n"
       ]
      }
     ],
     "prompt_number": 8
    },
    {
     "cell_type": "code",
     "collapsed": false,
     "input": [],
     "language": "python",
     "metadata": {},
     "outputs": []
    }
   ],
   "metadata": {}
  }
 ]
}