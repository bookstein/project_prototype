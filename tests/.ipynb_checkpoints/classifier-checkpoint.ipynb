{
 "metadata": {
  "name": "",
  "signature": "sha256:afb7bbdac58ad239ad69586a0a4aff657c2d59f8262e0c7584b939da441e5cbd"
 },
 "nbformat": 3,
 "nbformat_minor": 0,
 "worksheets": [
  {
   "cells": [
    {
     "cell_type": "code",
     "collapsed": false,
     "input": [
      "import simplejson as json\n",
      "\n",
      "import numpy as np\n",
      "\n",
      "from sklearn.linear_model import LogisticRegression\n",
      "from sklearn.feature_extraction.text import CountVectorizer, TfidfVectorizer\n",
      "from sklearn.naive_bayes import MultinomialNB, BernoulliNB\n",
      "from sklearn import cross_validation\n",
      "from sklearn import metrics\n",
      "\n",
      "import model\n",
      "\n",
      "import os\n",
      "\n",
      "import tweepy"
     ],
     "language": "python",
     "metadata": {},
     "outputs": [],
     "prompt_number": 1
    },
    {
     "cell_type": "code",
     "collapsed": false,
     "input": [
      "TEXT = []\n",
      "LABELS = []"
     ],
     "language": "python",
     "metadata": {},
     "outputs": [],
     "prompt_number": 2
    },
    {
     "cell_type": "code",
     "collapsed": false,
     "input": [],
     "language": "python",
     "metadata": {},
     "outputs": [],
     "prompt_number": 2
    },
    {
     "cell_type": "code",
     "collapsed": false,
     "input": [
      "data = model.Status.get_all_statuses()\n",
      "for status in data:\n",
      "    TEXT.append(status.text)\n",
      "    LABELS.append(status.label)\n",
      "\n",
      "print len(TEXT)\n",
      "print len(LABELS)"
     ],
     "language": "python",
     "metadata": {},
     "outputs": [
      {
       "output_type": "stream",
       "stream": "stdout",
       "text": [
        "6000\n",
        "6000\n"
       ]
      }
     ],
     "prompt_number": 3
    },
    {
     "cell_type": "code",
     "collapsed": false,
     "input": [
      "print \"TEXT:\", TEXT[1], \"LABEL:\", LABELS[1]"
     ],
     "language": "python",
     "metadata": {},
     "outputs": [
      {
       "output_type": "stream",
       "stream": "stdout",
       "text": [
        "TEXT: RT @Shawtwo: Editorial Cartoon: What The Frack? http://t.co/6YX99kYJSt #StopRush http://t.co/kWfPEE22bA #UniteBlue #p2 LABEL: libs\n"
       ]
      }
     ],
     "prompt_number": 4
    },
    {
     "cell_type": "code",
     "collapsed": false,
     "input": [
      "def get_fraction_cons(text_list, label_list):\n",
      "    \"\"\"\n",
      "    Get fraction of training data that is associated with \"cons\" (conservative)\n",
      "    label.\n",
      "    \"\"\"\n",
      "    total_length = len(text_list)\n",
      "    # print \"total length\", total_length\n",
      "    cons_list = [label for label in label_list if label == 'cons']\n",
      "    # print cons_list\n",
      "    cons_fraction = len([label for label in label_list if label == 'cons'])\n",
      "    # print \"fraction of data that is conservative: \", cons_fraction, \" out of \", total_length\n",
      "    return cons_fraction"
     ],
     "language": "python",
     "metadata": {},
     "outputs": [],
     "prompt_number": 5
    },
    {
     "cell_type": "code",
     "collapsed": false,
     "input": [
      "get_fraction_cons(TEXT, LABELS)"
     ],
     "language": "python",
     "metadata": {},
     "outputs": [
      {
       "metadata": {},
       "output_type": "pyout",
       "prompt_number": 6,
       "text": [
        "3000"
       ]
      }
     ],
     "prompt_number": 6
    },
    {
     "cell_type": "code",
     "collapsed": false,
     "input": [
      "makeVector = CountVectorizer()"
     ],
     "language": "python",
     "metadata": {},
     "outputs": [],
     "prompt_number": 7
    },
    {
     "cell_type": "code",
     "collapsed": false,
     "input": [
      "X = makeVector.fit_transform(TEXT)\n",
      "y = np.array(LABELS)"
     ],
     "language": "python",
     "metadata": {},
     "outputs": [],
     "prompt_number": 8
    },
    {
     "cell_type": "code",
     "collapsed": false,
     "input": [
      "def init_and_train_classifier(X, y, Kfolds):\n",
      "    \"\"\"\n",
      "    Instantiates and trains a classifier.\n",
      "\n",
      "    Parameters:\n",
      "    ----------\n",
      "    Matrix of features and documents\n",
      "    List of labels (as numpy array)\n",
      "    Number of stratified folds into which to divide all labelled data.\n",
      "\n",
      "    Output:\n",
      "    -------\n",
      "    Trained classifier\n",
      "    \"\"\"\n",
      "\n",
      "    clf = BernoulliNB()\n",
      "\n",
      "    cv = cross_validation.StratifiedKFold(y, Kfolds)\n",
      "\n",
      "    precision = []\n",
      "    recall = []\n",
      "\n",
      "    for train, test in cv:\n",
      "        X_train = X[train]\n",
      "        X_test = X[test]\n",
      "        y_train = y[train]\n",
      "        y_test = y[test]\n",
      "\n",
      "        clf.fit(X_train, y_train)\n",
      "\n",
      "        y_hat = clf.predict(X_test)\n",
      "\n",
      "        p,r,f1_score,support = metrics.precision_recall_fscore_support(y_test, y_hat)\n",
      "\n",
      "        # which label's precision does p[1] represent - lib or cons?\n",
      "        precision.append(p[1])\n",
      "        recall.append(r[1])\n",
      "\n",
      "    print 'avg precision:',np.average(precision), '+/-', np.std(precision)\n",
      "    print 'avg recall:', np.average(recall), '+/-', np.std(recall)\n",
      "    print 'f1 measure', f1_score\n",
      "\n",
      "    print \"clf: \", clf\n",
      "    print \"cv: \", cv\n",
      "\n",
      "    return clf"
     ],
     "language": "python",
     "metadata": {},
     "outputs": [],
     "prompt_number": 9
    },
    {
     "cell_type": "code",
     "collapsed": false,
     "input": [
      "clf = init_and_train_classifier(X, y, 3)"
     ],
     "language": "python",
     "metadata": {},
     "outputs": [
      {
       "output_type": "stream",
       "stream": "stdout",
       "text": [
        "avg precision: 0.988644395978 +/- 0.00097559428669\n",
        "avg recall: 0.958666666667 +/- 0.0122565175406\n",
        "f1 measure [ 0.9667319   0.96523517]\n",
        "clf:  BernoulliNB(alpha=1.0, binarize=0.0, class_prior=None, fit_prior=True)\n",
        "cv:  sklearn.cross_validation.StratifiedKFold(labels=[u'libs' u'libs' u'libs' ..., u'libs' u'libs' u'libs'], n_folds=3, shuffle=False, random_state=None)\n"
       ]
      }
     ],
     "prompt_number": 10
    },
    {
     "cell_type": "code",
     "collapsed": false,
     "input": [
      "def connect_to_API():\n",
      "    \"\"\"\n",
      "    Create instance of tweepy API class with OAuth keys and tokens.\n",
      "    \"\"\"\n",
      "    # initialize tweepy api object with auth, OAuth\n",
      "    TWITTER_API_KEY=os.environ.get('TWITTER_API_KEY')\n",
      "    TWITTER_SECRET_KEY=os.environ.get('TWITTER_SECRET_KEY')\n",
      "    TWITTER_ACCESS_TOKEN=os.environ.get('TWITTER_ACCESS_TOKEN')\n",
      "    TWITTER_SECRET_TOKEN=os.environ.get('TWITTER_SECRET_TOKEN')\n",
      "\n",
      "    auth = tweepy.OAuthHandler(TWITTER_API_KEY, TWITTER_SECRET_KEY, secure=True)\n",
      "    auth.set_access_token(TWITTER_ACCESS_TOKEN, TWITTER_SECRET_TOKEN)\n",
      "    api = tweepy.API(auth, cache=None) #removed wait_on_rate_limit=True, wait_on_rate_limit_notify=True\n",
      "\n",
      "    return api\n",
      "\n",
      "def get_timeline(api, uid, count):\n",
      "    \"\"\"Get n number of tweets by passing in user id and number of statuses.\n",
      "        If user has protected tweets, returns [] rather than break the program.\n",
      "    \"\"\"\n",
      "    timeline_list = []\n",
      "    \n",
      "    try:\n",
      "        timeline = tweepy.Cursor(api.user_timeline, id=uid).items(count)\n",
      "        for status in timeline:\n",
      "            status = status._json\n",
      "            timeline_list.append(status)\n",
      "        return timeline_list\n",
      "\n",
      "    except tweepy.TweepError as e:\n",
      "        print e.message[0][\"error\"]\n",
      "        return []\n",
      "\n",
      "def extract_text(statuses):\n",
      "    \"\"\"\n",
      "    Extract text from a given twitter user's timeline and\n",
      "    append to list.\n",
      "    Parameters:\n",
      "    -----------\n",
      "    Statuses: the new twitter user's timeline, a python object\n",
      "    containing status objects.\n",
      "\n",
      "    Output:\n",
      "    -------\n",
      "    List of statuses' text fields.\n",
      "    \"\"\"\n",
      "    text_list = []\n",
      "\n",
      "    for status in statuses:\n",
      "        text = status[\"text\"]\n",
      "        text_list.append(text)\n",
      "\n",
      "    return text_list"
     ],
     "language": "python",
     "metadata": {},
     "outputs": [],
     "prompt_number": 11
    },
    {
     "cell_type": "code",
     "collapsed": false,
     "input": [
      "api = connect_to_API()"
     ],
     "language": "python",
     "metadata": {},
     "outputs": [],
     "prompt_number": 12
    },
    {
     "cell_type": "code",
     "collapsed": false,
     "input": [
      "limbaugh = get_timeline(api, \"rushlimbaugh\", 200)\n",
      "limbaugh_text = extract_text(limbaugh)\n",
      "print len(limbaugh_text)"
     ],
     "language": "python",
     "metadata": {},
     "outputs": [
      {
       "output_type": "stream",
       "stream": "stdout",
       "text": [
        "200\n"
       ]
      }
     ],
     "prompt_number": 47
    },
    {
     "cell_type": "code",
     "collapsed": false,
     "input": [
      "sample = makeVector.transform(limbaugh_text)"
     ],
     "language": "python",
     "metadata": {},
     "outputs": [],
     "prompt_number": 48
    },
    {
     "cell_type": "code",
     "collapsed": false,
     "input": [
      "prediction = clf.predict(sample)\n",
      "print prediction"
     ],
     "language": "python",
     "metadata": {},
     "outputs": [
      {
       "output_type": "stream",
       "stream": "stdout",
       "text": [
        "[u'cons' u'libs' u'libs' u'libs' u'libs' u'cons' u'cons' u'cons' u'cons'\n",
        " u'cons' u'cons' u'libs' u'cons' u'libs' u'cons' u'libs' u'cons' u'libs'\n",
        " u'libs' u'libs' u'libs' u'libs' u'libs' u'cons' u'cons' u'cons' u'cons'\n",
        " u'libs' u'cons' u'cons' u'libs' u'cons' u'cons' u'libs' u'cons' u'libs'\n",
        " u'cons' u'libs' u'libs' u'cons' u'libs' u'libs' u'cons' u'libs' u'libs'\n",
        " u'libs' u'libs' u'libs' u'cons' u'cons' u'libs' u'libs' u'libs' u'libs'\n",
        " u'libs' u'libs' u'libs' u'libs' u'cons' u'cons' u'libs' u'cons' u'libs'\n",
        " u'libs' u'libs' u'libs' u'libs' u'libs' u'cons' u'cons' u'libs' u'cons'\n",
        " u'libs' u'libs' u'cons' u'cons' u'cons' u'libs' u'libs' u'libs' u'libs'\n",
        " u'libs' u'libs' u'libs' u'cons' u'libs' u'cons' u'cons' u'libs' u'cons'\n",
        " u'cons' u'cons' u'cons' u'cons' u'libs' u'libs' u'cons' u'libs' u'cons'\n",
        " u'cons' u'libs' u'libs' u'libs' u'libs' u'libs' u'libs' u'libs' u'cons'\n",
        " u'libs' u'libs' u'cons' u'cons' u'cons' u'libs' u'libs' u'libs' u'libs'\n",
        " u'cons' u'libs' u'libs' u'cons' u'libs' u'cons' u'libs' u'libs' u'libs'\n",
        " u'libs' u'libs' u'libs' u'libs' u'cons' u'libs' u'libs' u'libs' u'libs'\n",
        " u'libs' u'libs' u'libs' u'libs' u'cons' u'libs' u'cons' u'cons' u'cons'\n",
        " u'libs' u'libs' u'libs' u'libs' u'cons' u'cons' u'libs' u'cons' u'libs'\n",
        " u'cons' u'libs' u'cons' u'libs' u'cons' u'libs' u'cons' u'libs' u'libs'\n",
        " u'cons' u'libs' u'cons' u'cons' u'libs' u'cons' u'libs' u'libs' u'cons'\n",
        " u'cons' u'libs' u'libs' u'libs' u'libs' u'cons' u'cons' u'cons' u'libs'\n",
        " u'cons' u'libs' u'libs' u'cons' u'libs' u'cons' u'cons' u'libs' u'libs'\n",
        " u'cons' u'libs' u'libs' u'libs' u'libs' u'cons' u'libs' u'libs' u'libs'\n",
        " u'cons' u'libs']\n"
       ]
      }
     ],
     "prompt_number": 51
    },
    {
     "cell_type": "code",
     "collapsed": false,
     "input": [
      "score = 0\n",
      "for label in prediction:\n",
      "    if label == \"cons\":\n",
      "        score = score + 0\n",
      "    else:\n",
      "        score = score + 1\n",
      "print score"
     ],
     "language": "python",
     "metadata": {},
     "outputs": [
      {
       "output_type": "stream",
       "stream": "stdout",
       "text": [
        "121\n"
       ]
      }
     ],
     "prompt_number": 52
    },
    {
     "cell_type": "code",
     "collapsed": false,
     "input": [
      "clf.predict_log_proba(sample)"
     ],
     "language": "python",
     "metadata": {},
     "outputs": [
      {
       "metadata": {},
       "output_type": "pyout",
       "prompt_number": 46,
       "text": [
        "array([[ -4.04202218e-03,  -5.51303050e+00],\n",
        "       [ -2.75703743e-01,  -1.42311507e+00],\n",
        "       [ -2.69284577e-01,  -1.44360924e+00],\n",
        "       [ -4.99696014e-03,  -5.30142296e+00],\n",
        "       [ -2.21684470e-01,  -1.61529562e+00],\n",
        "       [ -1.08642323e-02,  -4.52770653e+00],\n",
        "       [ -3.90887574e-03,  -5.54645928e+00],\n",
        "       [ -1.54431721e-03,  -6.47394546e+00],\n",
        "       [ -5.68874566e-03,  -5.17210853e+00],\n",
        "       [ -2.59198169e-01,  -1.47696371e+00],\n",
        "       [ -6.79998843e-05,  -9.59603855e+00],\n",
        "       [ -1.18222583e-01,  -2.19371514e+00],\n",
        "       [ -8.76260650e-03,  -4.74163998e+00],\n",
        "       [ -3.35482906e-03,  -5.69903141e+00],\n",
        "       [ -1.40267708e-01,  -2.03351668e+00],\n",
        "       [ -7.54472027e-02,  -2.62180860e+00],\n",
        "       [ -8.03103952e-02,  -2.56174268e+00],\n",
        "       [ -2.18117093e-04,  -8.43058757e+00],\n",
        "       [ -1.67697350e-01,  -1.86827159e+00],\n",
        "       [ -1.72988540e-02,  -4.06575198e+00],\n",
        "       [ -4.92796538e-02,  -3.03478263e+00],\n",
        "       [ -1.83216077e+00,  -1.74433538e-01],\n",
        "       [ -1.90094566e+00,  -1.61845326e-01],\n",
        "       [ -1.10793692e-01,  -2.25497087e+00],\n",
        "       [ -1.26359925e+00,  -3.32170391e-01],\n",
        "       [ -3.50701253e-01,  -1.21805178e+00],\n",
        "       [ -5.39707446e-01,  -8.74474262e-01],\n",
        "       [ -5.66475301e-01,  -8.38224428e-01],\n",
        "       [ -4.79338928e-01,  -9.65461510e-01],\n",
        "       [ -5.17158570e-01,  -9.06865882e-01],\n",
        "       [ -2.62491765e-04,  -8.24542209e+00],\n",
        "       [ -5.87834293e-02,  -2.86314302e+00],\n",
        "       [ -5.62125307e-02,  -2.90659019e+00],\n",
        "       [ -5.17158570e-01,  -9.06865882e-01],\n",
        "       [ -1.38455159e+00,  -2.88263671e-01],\n",
        "       [ -1.45961963e-01,  -1.99650265e+00],\n",
        "       [ -2.99396533e+00,  -5.13863781e-02],\n",
        "       [ -1.77897591e+00,  -1.84897996e-01],\n",
        "       [ -8.56620297e-01,  -5.52680554e-01],\n",
        "       [ -1.55916892e-03,  -6.46438183e+00],\n",
        "       [ -5.67584928e+00,  -3.43364484e-03],\n",
        "       [ -1.14165608e-02,  -4.47839312e+00],\n",
        "       [ -7.91203450e-02,  -2.57608458e+00],\n",
        "       [ -5.17158570e-01,  -9.06865882e-01],\n",
        "       [ -5.88071831e-04,  -7.43895548e+00],\n",
        "       [ -7.53536906e-02,  -2.62300264e+00],\n",
        "       [ -6.13788388e-01,  -7.79350897e-01],\n",
        "       [ -3.17458673e-01,  -1.30194132e+00],\n",
        "       [ -1.42704394e+00,  -2.74459714e-01],\n",
        "       [ -1.19935221e-01,  -2.18017183e+00],\n",
        "       [ -1.72965802e-03,  -6.36069627e+00],\n",
        "       [ -1.23249589e-03,  -6.69933017e+00],\n",
        "       [ -2.04698507e-02,  -3.89901964e+00],\n",
        "       [ -2.08885790e+00,  -1.32193407e-01],\n",
        "       [ -2.45180512e-01,  -1.52584734e+00],\n",
        "       [ -3.07849868e-02,  -3.49608115e+00],\n",
        "       [ -8.86516500e-02,  -2.46703902e+00],\n",
        "       [ -2.28381478e+00,  -1.07468021e-01],\n",
        "       [ -1.29377235e+00,  -3.20528075e-01],\n",
        "       [ -5.99819738e-03,  -5.11929389e+00],\n",
        "       [ -4.27755657e-01,  -1.05546861e+00],\n",
        "       [ -3.23918191e-01,  -1.28485541e+00],\n",
        "       [ -1.07573054e-02,  -4.53754401e+00],\n",
        "       [ -1.83183752e-03,  -6.30335149e+00],\n",
        "       [ -7.06862540e-02,  -2.68463910e+00],\n",
        "       [ -6.33970520e-04,  -7.36382507e+00],\n",
        "       [ -1.09479730e-03,  -6.81773340e+00],\n",
        "       [ -8.80163878e-02,  -2.47391769e+00],\n",
        "       [ -1.40577749e-02,  -4.27160032e+00],\n",
        "       [ -1.91986933e-01,  -1.74478611e+00],\n",
        "       [ -1.49403713e+00,  -2.54201690e-01],\n",
        "       [ -3.69140577e-01,  -1.17547676e+00],\n",
        "       [ -9.98930423e-01,  -4.59298141e-01],\n",
        "       [ -1.06295190e+00,  -4.23783801e-01],\n",
        "       [ -4.65482438e-02,  -3.09044985e+00],\n",
        "       [ -6.53162508e-01,  -7.34797457e-01],\n",
        "       [ -3.83092861e-01,  -1.14491675e+00],\n",
        "       [ -1.55547020e-01,  -1.93757281e+00],\n",
        "       [ -2.32416145e-01,  -1.57318415e+00],\n",
        "       [ -2.09696883e-03,  -6.16831069e+00],\n",
        "       [ -7.04877059e-02,  -2.68735381e+00],\n",
        "       [ -1.01773285e-02,  -4.59267708e+00],\n",
        "       [ -5.05415635e-01,  -9.24460992e-01],\n",
        "       [ -8.44110716e-02,  -2.51396537e+00],\n",
        "       [ -2.80767106e-01,  -1.40733088e+00],\n",
        "       [ -1.55546473e-01,  -1.93757606e+00],\n",
        "       [ -4.98507872e-02,  -3.02354284e+00],\n",
        "       [ -2.51878820e-02,  -3.69395978e+00],\n",
        "       [ -6.92825143e-02,  -2.70400399e+00],\n",
        "       [ -5.38958465e-02,  -2.94752876e+00],\n",
        "       [ -3.29951874e-01,  -1.26925234e+00],\n",
        "       [ -6.14411138e-01,  -7.78616515e-01],\n",
        "       [ -5.45905516e-01,  -8.65875615e-01],\n",
        "       [ -1.58503056e-02,  -4.15248118e+00],\n",
        "       [ -8.53240426e-02,  -2.50365770e+00],\n",
        "       [ -1.50684233e+00,  -2.50525849e-01],\n",
        "       [ -1.31449852e+00,  -3.12807067e-01],\n",
        "       [ -5.89184375e-02,  -2.86091579e+00],\n",
        "       [ -4.22484801e-02,  -3.18523677e+00],\n",
        "       [ -7.93681642e-02,  -2.57307957e+00],\n",
        "       [ -1.34763747e-02,  -4.31354777e+00],\n",
        "       [ -1.31446762e-03,  -6.63498071e+00],\n",
        "       [ -4.47181633e-01,  -1.02006294e+00],\n",
        "       [ -1.22509252e-01,  -2.16019808e+00],\n",
        "       [ -3.33291493e-02,  -3.41794120e+00],\n",
        "       [ -4.63416999e-02,  -3.09479445e+00],\n",
        "       [ -5.17158570e-01,  -9.06865882e-01],\n",
        "       [ -2.69683684e-03,  -5.91702385e+00],\n",
        "       [ -1.84494127e+00,  -1.72016361e-01],\n",
        "       [ -4.18235832e-02,  -3.19513381e+00],\n",
        "       [ -3.53180897e-01,  -1.21217337e+00],\n",
        "       [ -1.15402946e-01,  -2.21647202e+00],\n",
        "       [ -1.41207475e-03,  -6.56340116e+00],\n",
        "       [ -3.70464000e-04,  -7.90093951e+00],\n",
        "       [ -1.29520476e-02,  -4.35297042e+00],\n",
        "       [ -5.32039951e-02,  -2.96010585e+00],\n",
        "       [ -1.89869757e-01,  -1.75485016e+00],\n",
        "       [ -1.99764269e-02,  -3.92317394e+00],\n",
        "       [ -1.22961662e-03,  -6.70166759e+00],\n",
        "       [ -5.17158570e-01,  -9.06865882e-01],\n",
        "       [ -1.91617563e+00,  -1.59193541e-01],\n",
        "       [ -1.02569348e+00,  -4.44020504e-01],\n",
        "       [ -2.65518375e+00,  -7.28781834e-02],\n",
        "       [ -7.71382808e-01,  -6.20590738e-01],\n",
        "       [ -1.10981530e+00,  -3.99910320e-01],\n",
        "       [ -1.15402946e-01,  -2.21647202e+00],\n",
        "       [ -2.72897276e-01,  -1.43200735e+00],\n",
        "       [ -4.24038792e-02,  -3.18164245e+00],\n",
        "       [ -4.10240568e-01,  -1.08912924e+00],\n",
        "       [ -1.25879331e-01,  -2.13471104e+00],\n",
        "       [ -2.38793644e+00,  -9.63115393e-02],\n",
        "       [ -2.62013685e+00,  -7.55783298e-02],\n",
        "       [ -3.24638260e+00,  -3.96921368e-02],\n",
        "       [ -1.13070688e-01,  -2.23574480e+00],\n",
        "       [ -2.92896614e-01,  -1.37081193e+00],\n",
        "       [ -7.61259363e-02,  -2.61318777e+00],\n",
        "       [ -1.99465453e-01,  -1.71018973e+00],\n",
        "       [ -2.47715716e-02,  -3.71041881e+00],\n",
        "       [ -3.25882529e-01,  -1.27973850e+00],\n",
        "       [ -1.94414512e-02,  -3.95005281e+00],\n",
        "       [ -5.95045396e-01,  -8.01930275e-01],\n",
        "       [ -6.44101237e-03,  -5.04828833e+00],\n",
        "       [ -1.36130174e+00,  -2.96153709e-01],\n",
        "       [ -1.02273609e+00,  -4.45677397e-01],\n",
        "       [ -3.90227631e-02,  -3.26305807e+00],\n",
        "       [ -1.56388732e+00,  -2.34862945e-01],\n",
        "       [ -5.27033708e-01,  -8.92460775e-01],\n",
        "       [ -3.71808852e-01,  -1.16952637e+00],\n",
        "       [ -3.67190546e-02,  -3.32276281e+00],\n",
        "       [ -1.98082000e-02,  -3.93154703e+00],\n",
        "       [ -9.30551930e-03,  -4.68179673e+00],\n",
        "       [ -8.56172052e-03,  -4.76473192e+00],\n",
        "       [ -3.54241169e-03,  -5.64471820e+00],\n",
        "       [ -2.32083476e-01,  -1.57445662e+00],\n",
        "       [ -7.41065276e-01,  -6.47420615e-01],\n",
        "       [ -1.99682239e-02,  -3.92358057e+00],\n",
        "       [ -5.82646772e-01,  -8.17392458e-01],\n",
        "       [ -1.62856856e+00,  -2.18417532e-01],\n",
        "       [ -1.06773029e+00,  -4.21271267e-01],\n",
        "       [ -2.24953351e-02,  -3.80567390e+00],\n",
        "       [ -1.10460689e-02,  -4.51119862e+00],\n",
        "       [ -2.91518434e-01,  -1.37487280e+00],\n",
        "       [ -2.77326447e-01,  -1.41802065e+00],\n",
        "       [ -2.98338866e-02,  -3.52699025e+00],\n",
        "       [ -2.60373034e-02,  -3.66121543e+00],\n",
        "       [ -4.93763157e-01,  -9.42443036e-01],\n",
        "       [ -2.91518434e-01,  -1.37487280e+00],\n",
        "       [ -1.20975592e+00,  -3.54206667e-01],\n",
        "       [ -2.91518434e-01,  -1.37487280e+00],\n",
        "       [ -2.16813707e-02,  -3.84212298e+00],\n",
        "       [ -3.43836242e-01,  -1.23458677e+00],\n",
        "       [ -8.51558282e-01,  -5.56432342e-01],\n",
        "       [ -5.13349400e-03,  -5.27453441e+00],\n",
        "       [ -2.48186244e-02,  -3.70854457e+00],\n",
        "       [ -1.42449871e+00,  -2.75264896e-01],\n",
        "       [ -4.83999619e-01,  -9.57929301e-01],\n",
        "       [ -3.43177166e+00,  -3.28637589e-02],\n",
        "       [ -3.60984089e-01,  -1.19398976e+00],\n",
        "       [ -6.19348400e-04,  -7.38715226e+00],\n",
        "       [ -9.58251787e-01,  -4.83798907e-01],\n",
        "       [ -5.17158570e-01,  -9.06865882e-01],\n",
        "       [ -1.31732397e-01,  -2.09212595e+00],\n",
        "       [ -2.75703743e-01,  -1.42311507e+00],\n",
        "       [ -6.63245142e-02,  -2.74617468e+00],\n",
        "       [ -4.85894623e-05,  -9.93212817e+00],\n",
        "       [ -1.22892216e-01,  -2.15726452e+00],\n",
        "       [ -2.56672634e-03,  -5.96640708e+00],\n",
        "       [ -2.48616342e-03,  -5.99825738e+00],\n",
        "       [ -1.98361792e-04,  -8.52551714e+00],\n",
        "       [ -4.70058547e+00,  -9.13151933e-03],\n",
        "       [ -3.22239375e-01,  -1.28925744e+00],\n",
        "       [ -1.60563749e-01,  -1.90827213e+00],\n",
        "       [ -1.23691141e-03,  -6.69575620e+00],\n",
        "       [ -4.17680089e-01,  -1.07462103e+00],\n",
        "       [ -2.55349981e-01,  -1.49007985e+00],\n",
        "       [ -6.89512196e-02,  -2.70863351e+00],\n",
        "       [ -5.17158570e-01,  -9.06865882e-01],\n",
        "       [ -3.05021491e-03,  -5.79406795e+00],\n",
        "       [ -2.56973658e-05,  -1.05691349e+01],\n",
        "       [ -1.66433323e-01,  -1.87522327e+00]])"
       ]
      }
     ],
     "prompt_number": 46
    },
    {
     "cell_type": "code",
     "collapsed": false,
     "input": [
      "probs=clf.feature_log_prob_[1]\n",
      "len(probs)"
     ],
     "language": "python",
     "metadata": {},
     "outputs": [
      {
       "metadata": {},
       "output_type": "pyout",
       "prompt_number": 23,
       "text": [
        "10841"
       ]
      }
     ],
     "prompt_number": 23
    },
    {
     "cell_type": "code",
     "collapsed": false,
     "input": [
      "score = clf.score(X, y)\n",
      "print score"
     ],
     "language": "python",
     "metadata": {},
     "outputs": [
      {
       "output_type": "stream",
       "stream": "stdout",
       "text": [
        "0.985833333333\n"
       ]
      }
     ],
     "prompt_number": 36
    },
    {
     "cell_type": "code",
     "collapsed": false,
     "input": [
      "features = makeVector.get_feature_names()\n",
      "len(features)"
     ],
     "language": "python",
     "metadata": {},
     "outputs": [
      {
       "metadata": {},
       "output_type": "pyout",
       "prompt_number": 24,
       "text": [
        "10841"
       ]
      }
     ],
     "prompt_number": 24
    },
    {
     "cell_type": "code",
     "collapsed": false,
     "input": [
      "sorted(zip(probs,features), reverse=True)[:10]"
     ],
     "language": "python",
     "metadata": {},
     "outputs": [
      {
       "metadata": {},
       "output_type": "pyout",
       "prompt_number": 25,
       "text": [
        "[(-0.14486987075278535, u'http'),\n",
        " (-0.21172053164873628, u'p2'),\n",
        " (-0.21605088174995668, u'co'),\n",
        " (-0.60796898465197646, u'rt'),\n",
        " (-1.0931328229034838, u'to'),\n",
        " (-1.1530125657283081, u'the'),\n",
        " (-1.4115865540220183, u'uniteblue'),\n",
        " (-1.8058442091097939, u'stoprush'),\n",
        " (-1.875054212287969, u'for'),\n",
        " (-1.9671123567059166, u'obama')]"
       ]
      }
     ],
     "prompt_number": 25
    },
    {
     "cell_type": "code",
     "collapsed": false,
     "input": [],
     "language": "python",
     "metadata": {},
     "outputs": []
    }
   ],
   "metadata": {}
  }
 ]
}