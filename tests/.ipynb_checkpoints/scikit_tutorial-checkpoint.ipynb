{
 "metadata": {
  "name": "",
  "signature": "sha256:e2ae9cb722e46ee598797796be98ba9fd8887e83b43bf0d2ed282cd91f7ff14e"
 },
 "nbformat": 3,
 "nbformat_minor": 0,
 "worksheets": [
  {
   "cells": [
    {
     "cell_type": "code",
     "collapsed": false,
     "input": [
      "import numpy as np\n",
      "\n",
      "from sklearn.linear_model import LogisticRegression\n",
      "from sklearn.feature_extraction.text import CountVectorizer, TfidfVectorizer\n",
      "from sklearn.naive_bayes import MultinomialNB, BernoulliNB\n",
      "from sklearn import cross_validation\n",
      "from sklearn import metrics"
     ],
     "language": "python",
     "metadata": {},
     "outputs": [],
     "prompt_number": 4
    },
    {
     "cell_type": "heading",
     "level": 1,
     "metadata": {},
     "source": [
      "https://archive.ics.uci.edu/ml/datasets/SMS+Spam+Collection"
     ]
    },
    {
     "cell_type": "code",
     "collapsed": false,
     "input": [
      "labels=[]\n",
      "documents=[]\n",
      "with open('SMSSpamCollection/SMSSpamCollection') as f:\n",
      "    for line in f:\n",
      "        labels.append(line[:4].strip())\n",
      "        documents.append(line[4:].strip())\n",
      "print labels[:5]\n",
      "print documents[:5]"
     ],
     "language": "python",
     "metadata": {},
     "outputs": [
      {
       "output_type": "stream",
       "stream": "stdout",
       "text": [
        "['ham', 'ham', 'spam', 'ham', 'ham']\n",
        "['Go until jurong point, crazy.. Available only in bugis n great world la e buffet... Cine there got amore wat...', 'Ok lar... Joking wif u oni...', \"Free entry in 2 a wkly comp to win FA Cup final tkts 21st May 2005. Text FA to 87121 to receive entry question(std txt rate)T&C's apply 08452810075over18's\", 'U dun say so early hor... U c already then say...', \"Nah I don't think he goes to usf, he lives around here though\"]\n"
       ]
      }
     ],
     "prompt_number": 5
    },
    {
     "cell_type": "code",
     "collapsed": false,
     "input": [
      "print 'fraction spam:', len([item for item in labels if item == 'spam'])/5574.0"
     ],
     "language": "python",
     "metadata": {},
     "outputs": [
      {
       "output_type": "stream",
       "stream": "stdout",
       "text": [
        "fraction spam: 0.134015069968\n"
       ]
      }
     ],
     "prompt_number": 6
    },
    {
     "cell_type": "heading",
     "level": 1,
     "metadata": {},
     "source": [
      "transform texts into vectors"
     ]
    },
    {
     "cell_type": "code",
     "collapsed": false,
     "input": [
      "vectorizer = TfidfVectorizer()"
     ],
     "language": "python",
     "metadata": {},
     "outputs": [],
     "prompt_number": 7
    },
    {
     "cell_type": "code",
     "collapsed": false,
     "input": [
      "X = vectorizer.fit_transform(documents)\n",
      "y = np.array(labels)\n",
      "\n",
      "print X.shape, y.shape"
     ],
     "language": "python",
     "metadata": {},
     "outputs": [
      {
       "output_type": "stream",
       "stream": "stdout",
       "text": [
        "(5574, 8713) (5574,)\n"
       ]
      }
     ],
     "prompt_number": 8
    },
    {
     "cell_type": "heading",
     "level": 1,
     "metadata": {},
     "source": [
      "instantiate classifier"
     ]
    },
    {
     "cell_type": "code",
     "collapsed": false,
     "input": [
      "clf = BernoulliNB()"
     ],
     "language": "python",
     "metadata": {},
     "outputs": [],
     "prompt_number": 9
    },
    {
     "cell_type": "heading",
     "level": 1,
     "metadata": {},
     "source": [
      "cross validation"
     ]
    },
    {
     "cell_type": "code",
     "collapsed": false,
     "input": [
      "cv = cross_validation.StratifiedKFold(y,5)"
     ],
     "language": "python",
     "metadata": {},
     "outputs": [],
     "prompt_number": 10
    },
    {
     "cell_type": "code",
     "collapsed": false,
     "input": [
      "precision=[]\n",
      "recall=[]\n",
      "for train, test in cv:\n",
      "    X_train = X[train]\n",
      "    X_test = X[test]\n",
      "    y_train = y[train]\n",
      "    y_test = y[test]\n",
      "    clf.fit(X_train, y_train)\n",
      "    y_hat = clf.predict(X_test)\n",
      "    p,r,_,_ = metrics.precision_recall_fscore_support(y_test, y_hat)\n",
      "    precision.append(p[1])\n",
      "    recall.append(r[1])"
     ],
     "language": "python",
     "metadata": {},
     "outputs": [],
     "prompt_number": 11
    },
    {
     "cell_type": "heading",
     "level": 1,
     "metadata": {},
     "source": [
      "average precision / recall across k-folds"
     ]
    },
    {
     "cell_type": "code",
     "collapsed": false,
     "input": [
      "print vectorizer\n",
      "print clf\n",
      "print 'precision:',np.average(precision), '+/-', np.std(precision)\n",
      "print 'recall:', np.average(recall), '+/-', np.std(recall)"
     ],
     "language": "python",
     "metadata": {},
     "outputs": [
      {
       "output_type": "stream",
       "stream": "stdout",
       "text": [
        "TfidfVectorizer(analyzer=u'word', binary=False, charset=None,\n",
        "        charset_error=None, decode_error=u'strict',\n",
        "        dtype=<type 'numpy.int64'>, encoding=u'utf-8', input=u'content',\n",
        "        lowercase=True, max_df=1.0, max_features=None, min_df=1,\n",
        "        ngram_range=(1, 1), norm=u'l2', preprocessor=None, smooth_idf=True,\n",
        "        stop_words=None, strip_accents=None, sublinear_tf=False,\n",
        "        token_pattern=u'(?u)\\\\b\\\\w\\\\w+\\\\b', tokenizer=None, use_idf=True,\n",
        "        vocabulary=None)\n",
        "BernoulliNB(alpha=1.0, binarize=0.0, class_prior=None, fit_prior=True)\n",
        "precision: 0.984691806825 +/- 0.00979760340781\n",
        "recall: 0.870111856823 +/- 0.0254286121657\n"
       ]
      }
     ],
     "prompt_number": 12
    },
    {
     "cell_type": "heading",
     "level": 1,
     "metadata": {},
     "source": [
      "try on new spam message"
     ]
    },
    {
     "cell_type": "code",
     "collapsed": false,
     "input": [
      "sample = ['Buffalo News headline: \"Second snow punch comes Thursday, with 2 more feet\" http://t.co/CXjh8WRjr6', u'RT @JimCantore: People still in cars RT @JeremyGlobalTV: Longest interstate in USA at standstill. Snowmobiles patrolling i90 #Buffalo http:\\u2026', u\"RT @feliciasonmez: Air quality in Beijing currently 361 (hazardous) per US emb. View out window pure white haze. Says colleague: 'APEC is o\\u2026\", 'Richard Engel live from Urfa Turkey tonight was just incredible.', 'Keir Simmons and Richard Engel shouting out local crews and journalists who can shoot footage in the middle of the ISIS fight...', '\"through this little peephole... the proximity in which these two sides are fighting each other\"...Richard Engel on MSNBC just now', '\"the bullet of honor...\" Richard Engel on MSNBC right now.', '\"there are still civilians here...\" Richard Engel on MSNBC right now.', '\"The little city that stood up to ISIS\"... Richard Engel on MSNBC right now.']\n",
      "sample = vectorizer.transform(sample)\n",
      "print sample"
     ],
     "language": "python",
     "metadata": {},
     "outputs": [
      {
       "output_type": "stream",
       "stream": "stdout",
       "text": [
        "  (0, 8492)\t0.167578041982\n",
        "  (0, 7752)\t0.348675572464\n",
        "  (0, 7069)\t0.314263712378\n",
        "  (0, 6730)\t0.299780348999\n",
        "  (0, 6194)\t0.39757079593\n",
        "  (0, 5363)\t0.295091136971\n",
        "  (0, 5163)\t0.221715358503\n",
        "  (0, 3994)\t0.290849228713\n",
        "  (0, 3178)\t0.366721344638\n",
        "  (0, 2165)\t0.292919664829\n",
        "  (0, 2122)\t0.250068472338\n",
        "  (1, 8121)\t0.363309124626\n",
        "  (1, 7302)\t0.186117843362\n",
        "  (1, 6580)\t0.726618249253\n",
        "  (1, 5799)\t0.232394538794\n",
        "  (1, 4114)\t0.238150874424\n",
        "  (1, 3994)\t0.265784559036\n",
        "  (1, 1898)\t0.318627571007\n",
        "  (1, 1273)\t0.150015088309\n",
        "  (2, 8466)\t0.32861940804\n",
        "  (2, 8433)\t0.301907787495\n",
        "  (2, 8204)\t0.344244704392\n",
        "  (2, 8120)\t0.211293491729\n",
        "  (2, 6683)\t0.243945574245\n",
        "  (2, 6580)\t0.344244704392\n",
        "  :\t:\n",
        "  (5, 4114)\t0.143252893404\n",
        "  (5, 3204)\t0.383322728295\n",
        "  (5, 2831)\t0.332365585257\n",
        "  (5, 1196)\t0.172509856829\n",
        "  (6, 7674)\t0.324187941489\n",
        "  (6, 6516)\t0.623519064781\n",
        "  (6, 5559)\t0.414905088485\n",
        "  (6, 5511)\t0.400480882037\n",
        "  (6, 5453)\t0.416647315027\n",
        "  (7, 7694)\t0.380675200326\n",
        "  (7, 7302)\t0.409371324189\n",
        "  (7, 6516)\t0.461609416882\n",
        "  (7, 5559)\t0.307166383155\n",
        "  (7, 5453)\t0.308456204467\n",
        "  (7, 3856)\t0.430632662784\n",
        "  (7, 1196)\t0.31540030083\n",
        "  (8, 8086)\t0.285527656165\n",
        "  (8, 7806)\t0.1594982309\n",
        "  (8, 7674)\t0.194975384045\n",
        "  (8, 7670)\t0.24605313409\n",
        "  (8, 6516)\t0.375001206266\n",
        "  (8, 5559)\t0.249535126439\n",
        "  (8, 5453)\t0.250582948538\n",
        "  (8, 4687)\t0.452376597459\n",
        "  (8, 2064)\t0.569338776715\n"
       ]
      }
     ],
     "prompt_number": 13
    },
    {
     "cell_type": "code",
     "collapsed": false,
     "input": [
      "clf.predict(sample)"
     ],
     "language": "python",
     "metadata": {},
     "outputs": [
      {
       "metadata": {},
       "output_type": "pyout",
       "prompt_number": 14,
       "text": [
        "array(['ham', 'ham', 'ham', 'ham', 'ham', 'ham', 'ham', 'ham', 'ham'], \n",
        "      dtype='|S4')"
       ]
      }
     ],
     "prompt_number": 14
    },
    {
     "cell_type": "heading",
     "level": 1,
     "metadata": {},
     "source": [
      "top features for 'spam'"
     ]
    },
    {
     "cell_type": "code",
     "collapsed": false,
     "input": [
      "probs=clf.feature_log_prob_[1]\n",
      "len(probs)"
     ],
     "language": "python",
     "metadata": {},
     "outputs": [
      {
       "metadata": {},
       "output_type": "pyout",
       "prompt_number": 12,
       "text": [
        "8713"
       ]
      }
     ],
     "prompt_number": 12
    },
    {
     "cell_type": "code",
     "collapsed": false,
     "input": [
      "features=vectorizer.get_feature_names()\n",
      "len(features)"
     ],
     "language": "python",
     "metadata": {},
     "outputs": [
      {
       "metadata": {},
       "output_type": "pyout",
       "prompt_number": 13,
       "text": [
        "8713"
       ]
      }
     ],
     "prompt_number": 13
    },
    {
     "cell_type": "code",
     "collapsed": false,
     "input": [
      "sorted(zip(probs,features), reverse=True)[:10]"
     ],
     "language": "python",
     "metadata": {},
     "outputs": [
      {
       "metadata": {},
       "output_type": "pyout",
       "prompt_number": 14,
       "text": [
        "[(-0.47267385780161408, u'to'),\n",
        " (-0.83624802420061872, u'call'),\n",
        " (-1.1239300966523995, u'you'),\n",
        " (-1.2611312181658842, u'your'),\n",
        " (-1.2970632273919476, u'now'),\n",
        " (-1.4696759700589412, u'or'),\n",
        " (-1.4769487293880212, u'free'),\n",
        " (-1.4769487293880212, u'for'),\n",
        " (-1.5141277326297757, u'the'),\n",
        " (-1.5606477482646683, u'txt')]"
       ]
      }
     ],
     "prompt_number": 14
    },
    {
     "cell_type": "code",
     "collapsed": false,
     "input": [],
     "language": "python",
     "metadata": {},
     "outputs": [],
     "prompt_number": 14
    }
   ],
   "metadata": {}
  }
 ]
}